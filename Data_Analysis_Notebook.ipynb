{
 "cells": [
  {
   "cell_type": "markdown",
   "id": "0b3eefd6",
   "metadata": {},
   "source": [
    "# Project Notebook \n",
    "## By : Sanchana Mohankumar\n",
    "## Topic : Incident Management\n",
    "### Notebook : Data Analysis"
   ]
  },
  {
   "cell_type": "markdown",
   "id": "1f066a9d",
   "metadata": {},
   "source": [
    "# Libraries "
   ]
  },
  {
   "cell_type": "code",
   "execution_count": 1,
   "id": "c092d7f9",
   "metadata": {},
   "outputs": [],
   "source": [
    "import pandas as pd\n",
    "import numpy as np \n",
    "import matplotlib.pyplot as plt\n",
    "import seaborn as sns\n",
    "import datetime as dt\n",
    "from typing import Dict, Any, List, Tuple\n",
    "from sklearn.base import clone\n",
    "\n",
    "\n",
    "from sklearn.model_selection import train_test_split\n",
    "from sklearn.preprocessing import LabelEncoder\n",
    "le = LabelEncoder()\n",
    "from sklearn.preprocessing import StandardScaler\n",
    "sc = StandardScaler()\n",
    "\n",
    "#Models\n",
    "from sklearn.linear_model import LinearRegression\n",
    "from sklearn.tree import DecisionTreeRegressor\n",
    "from sklearn.ensemble import RandomForestRegressor\n",
    "from sklearn.metrics import mean_squared_error,mean_absolute_error,make_scorer\n",
    "from sklearn.metrics import r2_score\n",
    "from sklearn.model_selection import cross_validate"
   ]
  },
  {
   "cell_type": "markdown",
   "id": "4c13e8ab",
   "metadata": {},
   "source": [
    "# Data File"
   ]
  },
  {
   "cell_type": "code",
   "execution_count": 2,
   "id": "610b447e",
   "metadata": {},
   "outputs": [],
   "source": [
    "data = pd.read_csv(\"/Users/sanchana/Downloads/incident_event_log.csv\")"
   ]
  },
  {
   "cell_type": "markdown",
   "id": "4fb857aa",
   "metadata": {},
   "source": [
    "# Getting Insights about Dataset "
   ]
  },
  {
   "cell_type": "code",
   "execution_count": 3,
   "id": "2b0797ed",
   "metadata": {},
   "outputs": [
    {
     "data": {
      "text/html": [
       "<div>\n",
       "<style scoped>\n",
       "    .dataframe tbody tr th:only-of-type {\n",
       "        vertical-align: middle;\n",
       "    }\n",
       "\n",
       "    .dataframe tbody tr th {\n",
       "        vertical-align: top;\n",
       "    }\n",
       "\n",
       "    .dataframe thead th {\n",
       "        text-align: right;\n",
       "    }\n",
       "</style>\n",
       "<table border=\"1\" class=\"dataframe\">\n",
       "  <thead>\n",
       "    <tr style=\"text-align: right;\">\n",
       "      <th></th>\n",
       "      <th>number</th>\n",
       "      <th>incident_state</th>\n",
       "      <th>active</th>\n",
       "      <th>reassignment_count</th>\n",
       "      <th>reopen_count</th>\n",
       "      <th>sys_mod_count</th>\n",
       "      <th>made_sla</th>\n",
       "      <th>caller_id</th>\n",
       "      <th>opened_by</th>\n",
       "      <th>opened_at</th>\n",
       "      <th>...</th>\n",
       "      <th>u_priority_confirmation</th>\n",
       "      <th>notify</th>\n",
       "      <th>problem_id</th>\n",
       "      <th>rfc</th>\n",
       "      <th>vendor</th>\n",
       "      <th>caused_by</th>\n",
       "      <th>closed_code</th>\n",
       "      <th>resolved_by</th>\n",
       "      <th>resolved_at</th>\n",
       "      <th>closed_at</th>\n",
       "    </tr>\n",
       "  </thead>\n",
       "  <tbody>\n",
       "    <tr>\n",
       "      <th>0</th>\n",
       "      <td>INC0000045</td>\n",
       "      <td>New</td>\n",
       "      <td>True</td>\n",
       "      <td>0</td>\n",
       "      <td>0</td>\n",
       "      <td>0</td>\n",
       "      <td>True</td>\n",
       "      <td>Caller 2403</td>\n",
       "      <td>Opened by  8</td>\n",
       "      <td>29/2/2016 01:16</td>\n",
       "      <td>...</td>\n",
       "      <td>False</td>\n",
       "      <td>Do Not Notify</td>\n",
       "      <td>?</td>\n",
       "      <td>?</td>\n",
       "      <td>?</td>\n",
       "      <td>?</td>\n",
       "      <td>code 5</td>\n",
       "      <td>Resolved by 149</td>\n",
       "      <td>29/2/2016 11:29</td>\n",
       "      <td>5/3/2016 12:00</td>\n",
       "    </tr>\n",
       "    <tr>\n",
       "      <th>1</th>\n",
       "      <td>INC0000045</td>\n",
       "      <td>Resolved</td>\n",
       "      <td>True</td>\n",
       "      <td>0</td>\n",
       "      <td>0</td>\n",
       "      <td>2</td>\n",
       "      <td>True</td>\n",
       "      <td>Caller 2403</td>\n",
       "      <td>Opened by  8</td>\n",
       "      <td>29/2/2016 01:16</td>\n",
       "      <td>...</td>\n",
       "      <td>False</td>\n",
       "      <td>Do Not Notify</td>\n",
       "      <td>?</td>\n",
       "      <td>?</td>\n",
       "      <td>?</td>\n",
       "      <td>?</td>\n",
       "      <td>code 5</td>\n",
       "      <td>Resolved by 149</td>\n",
       "      <td>29/2/2016 11:29</td>\n",
       "      <td>5/3/2016 12:00</td>\n",
       "    </tr>\n",
       "    <tr>\n",
       "      <th>2</th>\n",
       "      <td>INC0000045</td>\n",
       "      <td>Resolved</td>\n",
       "      <td>True</td>\n",
       "      <td>0</td>\n",
       "      <td>0</td>\n",
       "      <td>3</td>\n",
       "      <td>True</td>\n",
       "      <td>Caller 2403</td>\n",
       "      <td>Opened by  8</td>\n",
       "      <td>29/2/2016 01:16</td>\n",
       "      <td>...</td>\n",
       "      <td>False</td>\n",
       "      <td>Do Not Notify</td>\n",
       "      <td>?</td>\n",
       "      <td>?</td>\n",
       "      <td>?</td>\n",
       "      <td>?</td>\n",
       "      <td>code 5</td>\n",
       "      <td>Resolved by 149</td>\n",
       "      <td>29/2/2016 11:29</td>\n",
       "      <td>5/3/2016 12:00</td>\n",
       "    </tr>\n",
       "    <tr>\n",
       "      <th>3</th>\n",
       "      <td>INC0000045</td>\n",
       "      <td>Closed</td>\n",
       "      <td>False</td>\n",
       "      <td>0</td>\n",
       "      <td>0</td>\n",
       "      <td>4</td>\n",
       "      <td>True</td>\n",
       "      <td>Caller 2403</td>\n",
       "      <td>Opened by  8</td>\n",
       "      <td>29/2/2016 01:16</td>\n",
       "      <td>...</td>\n",
       "      <td>False</td>\n",
       "      <td>Do Not Notify</td>\n",
       "      <td>?</td>\n",
       "      <td>?</td>\n",
       "      <td>?</td>\n",
       "      <td>?</td>\n",
       "      <td>code 5</td>\n",
       "      <td>Resolved by 149</td>\n",
       "      <td>29/2/2016 11:29</td>\n",
       "      <td>5/3/2016 12:00</td>\n",
       "    </tr>\n",
       "    <tr>\n",
       "      <th>4</th>\n",
       "      <td>INC0000047</td>\n",
       "      <td>New</td>\n",
       "      <td>True</td>\n",
       "      <td>0</td>\n",
       "      <td>0</td>\n",
       "      <td>0</td>\n",
       "      <td>True</td>\n",
       "      <td>Caller 2403</td>\n",
       "      <td>Opened by  397</td>\n",
       "      <td>29/2/2016 04:40</td>\n",
       "      <td>...</td>\n",
       "      <td>False</td>\n",
       "      <td>Do Not Notify</td>\n",
       "      <td>?</td>\n",
       "      <td>?</td>\n",
       "      <td>?</td>\n",
       "      <td>?</td>\n",
       "      <td>code 5</td>\n",
       "      <td>Resolved by 81</td>\n",
       "      <td>1/3/2016 09:52</td>\n",
       "      <td>6/3/2016 10:00</td>\n",
       "    </tr>\n",
       "  </tbody>\n",
       "</table>\n",
       "<p>5 rows × 36 columns</p>\n",
       "</div>"
      ],
      "text/plain": [
       "       number incident_state  active  reassignment_count  reopen_count  \\\n",
       "0  INC0000045            New    True                   0             0   \n",
       "1  INC0000045       Resolved    True                   0             0   \n",
       "2  INC0000045       Resolved    True                   0             0   \n",
       "3  INC0000045         Closed   False                   0             0   \n",
       "4  INC0000047            New    True                   0             0   \n",
       "\n",
       "   sys_mod_count  made_sla    caller_id       opened_by        opened_at  ...  \\\n",
       "0              0      True  Caller 2403    Opened by  8  29/2/2016 01:16  ...   \n",
       "1              2      True  Caller 2403    Opened by  8  29/2/2016 01:16  ...   \n",
       "2              3      True  Caller 2403    Opened by  8  29/2/2016 01:16  ...   \n",
       "3              4      True  Caller 2403    Opened by  8  29/2/2016 01:16  ...   \n",
       "4              0      True  Caller 2403  Opened by  397  29/2/2016 04:40  ...   \n",
       "\n",
       "  u_priority_confirmation         notify problem_id rfc vendor caused_by  \\\n",
       "0                   False  Do Not Notify          ?   ?      ?         ?   \n",
       "1                   False  Do Not Notify          ?   ?      ?         ?   \n",
       "2                   False  Do Not Notify          ?   ?      ?         ?   \n",
       "3                   False  Do Not Notify          ?   ?      ?         ?   \n",
       "4                   False  Do Not Notify          ?   ?      ?         ?   \n",
       "\n",
       "  closed_code      resolved_by      resolved_at       closed_at  \n",
       "0      code 5  Resolved by 149  29/2/2016 11:29  5/3/2016 12:00  \n",
       "1      code 5  Resolved by 149  29/2/2016 11:29  5/3/2016 12:00  \n",
       "2      code 5  Resolved by 149  29/2/2016 11:29  5/3/2016 12:00  \n",
       "3      code 5  Resolved by 149  29/2/2016 11:29  5/3/2016 12:00  \n",
       "4      code 5   Resolved by 81   1/3/2016 09:52  6/3/2016 10:00  \n",
       "\n",
       "[5 rows x 36 columns]"
      ]
     },
     "execution_count": 3,
     "metadata": {},
     "output_type": "execute_result"
    }
   ],
   "source": [
    "data.head()"
   ]
  },
  {
   "cell_type": "markdown",
   "id": "e60dfef3",
   "metadata": {},
   "source": [
    "### Checking for Duplicates"
   ]
  },
  {
   "cell_type": "code",
   "execution_count": 4,
   "id": "ebb5770d",
   "metadata": {},
   "outputs": [
    {
     "data": {
      "text/plain": [
       "(141712, 36)"
      ]
     },
     "execution_count": 4,
     "metadata": {},
     "output_type": "execute_result"
    }
   ],
   "source": [
    "data.shape"
   ]
  },
  {
   "cell_type": "code",
   "execution_count": 5,
   "id": "4f71a41a",
   "metadata": {},
   "outputs": [
    {
     "data": {
      "text/plain": [
       "(141712, 36)"
      ]
     },
     "execution_count": 5,
     "metadata": {},
     "output_type": "execute_result"
    }
   ],
   "source": [
    "data = data.drop_duplicates()\n",
    "data.shape"
   ]
  },
  {
   "cell_type": "code",
   "execution_count": 6,
   "id": "309d1efa",
   "metadata": {},
   "outputs": [
    {
     "data": {
      "text/html": [
       "<div>\n",
       "<style scoped>\n",
       "    .dataframe tbody tr th:only-of-type {\n",
       "        vertical-align: middle;\n",
       "    }\n",
       "\n",
       "    .dataframe tbody tr th {\n",
       "        vertical-align: top;\n",
       "    }\n",
       "\n",
       "    .dataframe thead th {\n",
       "        text-align: right;\n",
       "    }\n",
       "</style>\n",
       "<table border=\"1\" class=\"dataframe\">\n",
       "  <thead>\n",
       "    <tr style=\"text-align: right;\">\n",
       "      <th></th>\n",
       "      <th>reassignment_count</th>\n",
       "      <th>reopen_count</th>\n",
       "      <th>sys_mod_count</th>\n",
       "    </tr>\n",
       "  </thead>\n",
       "  <tbody>\n",
       "    <tr>\n",
       "      <th>count</th>\n",
       "      <td>141712.000000</td>\n",
       "      <td>141712.000000</td>\n",
       "      <td>141712.000000</td>\n",
       "    </tr>\n",
       "    <tr>\n",
       "      <th>mean</th>\n",
       "      <td>1.104197</td>\n",
       "      <td>0.021918</td>\n",
       "      <td>5.080946</td>\n",
       "    </tr>\n",
       "    <tr>\n",
       "      <th>std</th>\n",
       "      <td>1.734673</td>\n",
       "      <td>0.207302</td>\n",
       "      <td>7.680652</td>\n",
       "    </tr>\n",
       "    <tr>\n",
       "      <th>min</th>\n",
       "      <td>0.000000</td>\n",
       "      <td>0.000000</td>\n",
       "      <td>0.000000</td>\n",
       "    </tr>\n",
       "    <tr>\n",
       "      <th>25%</th>\n",
       "      <td>0.000000</td>\n",
       "      <td>0.000000</td>\n",
       "      <td>1.000000</td>\n",
       "    </tr>\n",
       "    <tr>\n",
       "      <th>50%</th>\n",
       "      <td>1.000000</td>\n",
       "      <td>0.000000</td>\n",
       "      <td>3.000000</td>\n",
       "    </tr>\n",
       "    <tr>\n",
       "      <th>75%</th>\n",
       "      <td>1.000000</td>\n",
       "      <td>0.000000</td>\n",
       "      <td>6.000000</td>\n",
       "    </tr>\n",
       "    <tr>\n",
       "      <th>max</th>\n",
       "      <td>27.000000</td>\n",
       "      <td>8.000000</td>\n",
       "      <td>129.000000</td>\n",
       "    </tr>\n",
       "  </tbody>\n",
       "</table>\n",
       "</div>"
      ],
      "text/plain": [
       "       reassignment_count   reopen_count  sys_mod_count\n",
       "count       141712.000000  141712.000000  141712.000000\n",
       "mean             1.104197       0.021918       5.080946\n",
       "std              1.734673       0.207302       7.680652\n",
       "min              0.000000       0.000000       0.000000\n",
       "25%              0.000000       0.000000       1.000000\n",
       "50%              1.000000       0.000000       3.000000\n",
       "75%              1.000000       0.000000       6.000000\n",
       "max             27.000000       8.000000     129.000000"
      ]
     },
     "execution_count": 6,
     "metadata": {},
     "output_type": "execute_result"
    }
   ],
   "source": [
    "data.describe()"
   ]
  },
  {
   "cell_type": "code",
   "execution_count": 7,
   "id": "8440cff3",
   "metadata": {},
   "outputs": [
    {
     "name": "stdout",
     "output_type": "stream",
     "text": [
      "<class 'pandas.core.frame.DataFrame'>\n",
      "Int64Index: 141712 entries, 0 to 141711\n",
      "Data columns (total 36 columns):\n",
      " #   Column                   Non-Null Count   Dtype \n",
      "---  ------                   --------------   ----- \n",
      " 0   number                   141712 non-null  object\n",
      " 1   incident_state           141712 non-null  object\n",
      " 2   active                   141712 non-null  bool  \n",
      " 3   reassignment_count       141712 non-null  int64 \n",
      " 4   reopen_count             141712 non-null  int64 \n",
      " 5   sys_mod_count            141712 non-null  int64 \n",
      " 6   made_sla                 141712 non-null  bool  \n",
      " 7   caller_id                141712 non-null  object\n",
      " 8   opened_by                141712 non-null  object\n",
      " 9   opened_at                141712 non-null  object\n",
      " 10  sys_created_by           141712 non-null  object\n",
      " 11  sys_created_at           141712 non-null  object\n",
      " 12  sys_updated_by           141712 non-null  object\n",
      " 13  sys_updated_at           141712 non-null  object\n",
      " 14  contact_type             141712 non-null  object\n",
      " 15  location                 141712 non-null  object\n",
      " 16  category                 141712 non-null  object\n",
      " 17  subcategory              141712 non-null  object\n",
      " 18  u_symptom                141712 non-null  object\n",
      " 19  cmdb_ci                  141712 non-null  object\n",
      " 20  impact                   141712 non-null  object\n",
      " 21  urgency                  141712 non-null  object\n",
      " 22  priority                 141712 non-null  object\n",
      " 23  assignment_group         141712 non-null  object\n",
      " 24  assigned_to              141712 non-null  object\n",
      " 25  knowledge                141712 non-null  bool  \n",
      " 26  u_priority_confirmation  141712 non-null  bool  \n",
      " 27  notify                   141712 non-null  object\n",
      " 28  problem_id               141712 non-null  object\n",
      " 29  rfc                      141712 non-null  object\n",
      " 30  vendor                   141712 non-null  object\n",
      " 31  caused_by                141712 non-null  object\n",
      " 32  closed_code              141712 non-null  object\n",
      " 33  resolved_by              141712 non-null  object\n",
      " 34  resolved_at              141712 non-null  object\n",
      " 35  closed_at                141712 non-null  object\n",
      "dtypes: bool(4), int64(3), object(29)\n",
      "memory usage: 36.2+ MB\n"
     ]
    }
   ],
   "source": [
    "data.info()"
   ]
  },
  {
   "cell_type": "markdown",
   "id": "f395ee1d",
   "metadata": {},
   "source": [
    "### Checking for unique values"
   ]
  },
  {
   "cell_type": "code",
   "execution_count": 8,
   "id": "93fa559a",
   "metadata": {},
   "outputs": [
    {
     "data": {
      "text/plain": [
       "number                     24918\n",
       "incident_state                 9\n",
       "active                         2\n",
       "reassignment_count            28\n",
       "reopen_count                   9\n",
       "sys_mod_count                115\n",
       "made_sla                       2\n",
       "caller_id                   5245\n",
       "opened_by                    208\n",
       "opened_at                  19849\n",
       "sys_created_by               186\n",
       "sys_created_at             11553\n",
       "sys_updated_by               846\n",
       "sys_updated_at             50664\n",
       "contact_type                   5\n",
       "location                     225\n",
       "category                      59\n",
       "subcategory                  255\n",
       "u_symptom                    526\n",
       "cmdb_ci                       51\n",
       "impact                         3\n",
       "urgency                        3\n",
       "priority                       4\n",
       "assignment_group              79\n",
       "assigned_to                  235\n",
       "knowledge                      2\n",
       "u_priority_confirmation        2\n",
       "notify                         2\n",
       "problem_id                   253\n",
       "rfc                          182\n",
       "vendor                         5\n",
       "caused_by                      4\n",
       "closed_code                   18\n",
       "resolved_by                  217\n",
       "resolved_at                18506\n",
       "closed_at                   2707\n",
       "dtype: int64"
      ]
     },
     "execution_count": 8,
     "metadata": {},
     "output_type": "execute_result"
    }
   ],
   "source": [
    " data.nunique()"
   ]
  },
  {
   "cell_type": "markdown",
   "id": "96fbab3a",
   "metadata": {},
   "source": [
    "### Handling Missing Values"
   ]
  },
  {
   "cell_type": "code",
   "execution_count": 9,
   "id": "c31134a2",
   "metadata": {},
   "outputs": [
    {
     "data": {
      "text/plain": [
       "number                     0\n",
       "incident_state             0\n",
       "active                     0\n",
       "reassignment_count         0\n",
       "reopen_count               0\n",
       "sys_mod_count              0\n",
       "made_sla                   0\n",
       "caller_id                  0\n",
       "opened_by                  0\n",
       "opened_at                  0\n",
       "sys_created_by             0\n",
       "sys_created_at             0\n",
       "sys_updated_by             0\n",
       "sys_updated_at             0\n",
       "contact_type               0\n",
       "location                   0\n",
       "category                   0\n",
       "subcategory                0\n",
       "u_symptom                  0\n",
       "cmdb_ci                    0\n",
       "impact                     0\n",
       "urgency                    0\n",
       "priority                   0\n",
       "assignment_group           0\n",
       "assigned_to                0\n",
       "knowledge                  0\n",
       "u_priority_confirmation    0\n",
       "notify                     0\n",
       "problem_id                 0\n",
       "rfc                        0\n",
       "vendor                     0\n",
       "caused_by                  0\n",
       "closed_code                0\n",
       "resolved_by                0\n",
       "resolved_at                0\n",
       "closed_at                  0\n",
       "dtype: int64"
      ]
     },
     "execution_count": 9,
     "metadata": {},
     "output_type": "execute_result"
    }
   ],
   "source": [
    "data.isnull().sum()"
   ]
  },
  {
   "cell_type": "markdown",
   "id": "bb5845fe",
   "metadata": {},
   "source": [
    "# Exploratory Data Analysis"
   ]
  },
  {
   "cell_type": "markdown",
   "id": "32f7a264",
   "metadata": {},
   "source": [
    "## What is the split of Incident state and number of Incidents yet to be closed?"
   ]
  },
  {
   "cell_type": "raw",
   "id": "8a95650a",
   "metadata": {},
   "source": [
    "As per Incident state overall we have 38,716 active incidents followed by New Incidents which is of 36,407. So we can say that New Incident minus closed Incidents gives us No of Incidents to be closed which is 11,422\n",
    "New Incident - closed Incident = 11,422"
   ]
  },
  {
   "cell_type": "code",
   "execution_count": 10,
   "id": "21b2c24a",
   "metadata": {},
   "outputs": [
    {
     "data": {
      "text/plain": [
       "Text(0, 0.5, 'Incident state')"
      ]
     },
     "execution_count": 10,
     "metadata": {},
     "output_type": "execute_result"
    },
    {
     "data": {
      "image/png": "[encoded data removed]",
      "text/plain": [
       "<Figure size 720x360 with 1 Axes>"
      ]
     },
     "metadata": {},
     "output_type": "display_data"
    }
   ],
   "source": [
    "sns.set(rc={\"figure.figsize\":(10, 5)})\n",
    "ax = sns.countplot(y ='incident_state', data = data, palette = 'rocket')\n",
    "ax.bar_label(ax.containers[0])\n",
    "ax.set_title('Distribution of Incident state', fontsize = 15)\n",
    "ax.set_xlabel(\"Count\", fontsize = 15)\n",
    "ax.set_ylabel(\"Incident state\", fontsize = 15)"
   ]
  },
  {
   "cell_type": "markdown",
   "id": "2dd1abf5",
   "metadata": {},
   "source": [
    " ## How many tickets have missed the SLA ?"
   ]
  },
  {
   "cell_type": "raw",
   "id": "7131a8d6",
   "metadata": {},
   "source": [
    "We are looking for incident ticket which was closed under scheduled SLA time. \n",
    "\n",
    "What is SLA ? \n",
    "\n",
    "- If a schedule is not selected for an SLA, the SLA will run 24X7. Consider a scenario where you select a duration of one day, which is 24 hours, and a schedule of 9 am to 5 pm, which is 8 hours. The SLA calculation will distribute the 24 hours across three working days of 8 hours each. \n",
    "- So in our case we observe we have closed 15,831 incidents in assigned time whereas 9154 where not made within timeline"
   ]
  },
  {
   "cell_type": "code",
   "execution_count": 11,
   "id": "e3214dda",
   "metadata": {},
   "outputs": [
    {
     "data": {
      "text/plain": [
       "Text(0, 0.5, 'Made sla')"
      ]
     },
     "execution_count": 11,
     "metadata": {},
     "output_type": "execute_result"
    },
    {
     "data": {
      "image/png": "[encoded data removed]",
      "text/plain": [
       "<Figure size 720x360 with 1 Axes>"
      ]
     },
     "metadata": {},
     "output_type": "display_data"
    }
   ],
   "source": [
    "sla = data[data['incident_state'] == 'Closed']\n",
    "sns.set(rc={\"figure.figsize\":(10, 5)})\n",
    "ax = sns.countplot(y ='made_sla', data = sla, palette = 'rocket')\n",
    "ax.bar_label(ax.containers[0])\n",
    "ax.set_title('Distribution of Closed Incident state withrespect to SLA', fontsize = 15)\n",
    "ax.set_xlabel(\"Count\", fontsize = 15)\n",
    "ax.set_ylabel(\"Made sla\", fontsize = 15)"
   ]
  },
  {
   "cell_type": "markdown",
   "id": "252d4fd4",
   "metadata": {},
   "source": [
    "## What category code is getting closed more?"
   ]
  },
  {
   "cell_type": "raw",
   "id": "cda62285",
   "metadata": {},
   "source": [
    "Column closed code represents each variety of closed code for example we have code 1 it may be case solved permenantely, solved remotely etc\n",
    "- Over here there are around 14,923 Incidents closed with Code 6 followed by 7, 9, 8\n",
    "- We dont know what code is exactly here in this case as each company can set n number of code options in our case we have a total of 18 code varities"
   ]
  },
  {
   "cell_type": "code",
   "execution_count": 12,
   "id": "c5462b51",
   "metadata": {},
   "outputs": [
    {
     "data": {
      "text/plain": [
       "Text(0, 0.5, 'Closed Code')"
      ]
     },
     "execution_count": 12,
     "metadata": {},
     "output_type": "execute_result"
    },
    {
     "data": {
      "image/png": "[encoded data removed]",
      "text/plain": [
       "<Figure size 720x360 with 1 Axes>"
      ]
     },
     "metadata": {},
     "output_type": "display_data"
    }
   ],
   "source": [
    "closed_code = pd.DataFrame(sla['closed_code'].value_counts().reset_index().head(10))\n",
    "sns.set(rc={\"figure.figsize\":(10, 5)})\n",
    "ax = sns.barplot(x = 'closed_code',y ='index', data = closed_code, palette = 'rocket')\n",
    "ax.bar_label(ax.containers[0])\n",
    "ax.set_title('Distribution of Closed Code', fontsize = 15)\n",
    "ax.set_xlabel(\"Count\", fontsize = 15)\n",
    "ax.set_ylabel(\"Closed Code\", fontsize = 15)"
   ]
  },
  {
   "cell_type": "markdown",
   "id": "dc1dcb9e",
   "metadata": {},
   "source": [
    "## When to send notification and why?"
   ]
  },
  {
   "cell_type": "raw",
   "id": "c869d037",
   "metadata": {},
   "source": [
    "The notification is send in case of prioirty incidents in order to alert the person in charge faster as we can see there are very few Incidents which is created with send email as they were less high prioirty Incidents. In our case we have around 36 Incidents been notified by Email"
   ]
  },
  {
   "cell_type": "code",
   "execution_count": 13,
   "id": "bd3d036a",
   "metadata": {},
   "outputs": [
    {
     "data": {
      "text/plain": [
       "Text(0, 0.5, 'Closed Code')"
      ]
     },
     "execution_count": 13,
     "metadata": {},
     "output_type": "execute_result"
    },
    {
     "data": {
      "image/png": "[encoded data removed]",
      "text/plain": [
       "<Figure size 720x360 with 1 Axes>"
      ]
     },
     "metadata": {},
     "output_type": "display_data"
    }
   ],
   "source": [
    "sns.set(rc={\"figure.figsize\":(10, 5)})\n",
    "ax = sns.countplot(x = 'notify', data = sla, palette = 'rocket')\n",
    "ax.bar_label(ax.containers[0])\n",
    "ax.set_title('Distribution of Closed Code', fontsize = 15)\n",
    "ax.set_xlabel(\"Count\", fontsize = 15)\n",
    "ax.set_ylabel(\"Closed Code\", fontsize = 15)"
   ]
  },
  {
   "cell_type": "markdown",
   "id": "2bd8fa72",
   "metadata": {},
   "source": [
    "## Who opened the maximum number of Incidents?"
   ]
  },
  {
   "cell_type": "raw",
   "id": "cbb27b00",
   "metadata": {},
   "source": [
    "The maximum number of incidents where opened by Person 17 in order the validate the performance of the employee company can look at the incidents created and observe the knowledge of the person in respective team "
   ]
  },
  {
   "cell_type": "code",
   "execution_count": 14,
   "id": "7bdfe6f9",
   "metadata": {},
   "outputs": [
    {
     "data": {
      "text/plain": [
       "Text(0, 0.5, 'Opened by')"
      ]
     },
     "execution_count": 14,
     "metadata": {},
     "output_type": "execute_result"
    },
    {
     "data": {
      "image/png": "[encoded data removed]",
      "text/plain": [
       "<Figure size 720x360 with 1 Axes>"
      ]
     },
     "metadata": {},
     "output_type": "display_data"
    }
   ],
   "source": [
    "opened_by = pd.DataFrame(sla['opened_by'].value_counts().reset_index().head(7))\n",
    "sns.set(rc={\"figure.figsize\":(10, 5)})\n",
    "ax = sns.barplot(x = 'opened_by',y ='index', data = opened_by, palette = 'rocket')\n",
    "ax.bar_label(ax.containers[0])\n",
    "ax.set_title('Distribution of Opened By', fontsize = 15)\n",
    "ax.set_xlabel(\"Count\", fontsize = 15)\n",
    "ax.set_ylabel(\"Opened by\", fontsize = 15)"
   ]
  },
  {
   "cell_type": "markdown",
   "id": "3a8a5419",
   "metadata": {},
   "source": [
    "## Who resolved maximum number of Incidents?"
   ]
  },
  {
   "cell_type": "raw",
   "id": "bc864ca1",
   "metadata": {},
   "source": [
    "The maximum number of incidents where resolved by Person 11 in order the validate the performance of the employee company can look at the incidents resolved"
   ]
  },
  {
   "cell_type": "code",
   "execution_count": 15,
   "id": "0e232a01",
   "metadata": {},
   "outputs": [
    {
     "data": {
      "text/plain": [
       "Text(0, 0.5, 'Opened by')"
      ]
     },
     "execution_count": 15,
     "metadata": {},
     "output_type": "execute_result"
    },
    {
     "data": {
      "image/png": "[encoded data removed]",
      "text/plain": [
       "<Figure size 720x360 with 1 Axes>"
      ]
     },
     "metadata": {},
     "output_type": "display_data"
    }
   ],
   "source": [
    "resolved_by = pd.DataFrame(sla['resolved_by'].value_counts().reset_index().head(7))\n",
    "sns.set(rc={\"figure.figsize\":(10, 5)})\n",
    "ax = sns.barplot(x = 'resolved_by',y ='index', data = resolved_by, palette = 'rocket')\n",
    "ax.bar_label(ax.containers[0])\n",
    "ax.set_title('Distribution of Resolved By', fontsize = 15)\n",
    "ax.set_xlabel(\"Count\", fontsize = 15)\n",
    "ax.set_ylabel(\"Opened by\", fontsize = 15)"
   ]
  },
  {
   "cell_type": "markdown",
   "id": "1b0a200c",
   "metadata": {},
   "source": [
    "### Converting Column Open Date Time and Column Closed Date Time "
   ]
  },
  {
   "cell_type": "code",
   "execution_count": 16,
   "id": "35c44843",
   "metadata": {},
   "outputs": [
    {
     "name": "stderr",
     "output_type": "stream",
     "text": [
      "/var/folders/70/dlcm7gbd3xdgyms689ttsvjr0000gn/T/ipykernel_40342/522815405.py:1: SettingWithCopyWarning: \n",
      "A value is trying to be set on a copy of a slice from a DataFrame.\n",
      "Try using .loc[row_indexer,col_indexer] = value instead\n",
      "\n",
      "See the caveats in the documentation: https://pandas.pydata.org/pandas-docs/stable/user_guide/indexing.html#returning-a-view-versus-a-copy\n",
      "  sla['opened_date_time'] = pd.to_datetime(sla['opened_at'])\n",
      "/var/folders/70/dlcm7gbd3xdgyms689ttsvjr0000gn/T/ipykernel_40342/522815405.py:2: SettingWithCopyWarning: \n",
      "A value is trying to be set on a copy of a slice from a DataFrame.\n",
      "Try using .loc[row_indexer,col_indexer] = value instead\n",
      "\n",
      "See the caveats in the documentation: https://pandas.pydata.org/pandas-docs/stable/user_guide/indexing.html#returning-a-view-versus-a-copy\n",
      "  sla['Open_Date'] = sla['opened_date_time'].dt.date\n",
      "/var/folders/70/dlcm7gbd3xdgyms689ttsvjr0000gn/T/ipykernel_40342/522815405.py:3: SettingWithCopyWarning: \n",
      "A value is trying to be set on a copy of a slice from a DataFrame.\n",
      "Try using .loc[row_indexer,col_indexer] = value instead\n",
      "\n",
      "See the caveats in the documentation: https://pandas.pydata.org/pandas-docs/stable/user_guide/indexing.html#returning-a-view-versus-a-copy\n",
      "  sla['Open_time'] = sla['opened_date_time'].dt.time\n",
      "/var/folders/70/dlcm7gbd3xdgyms689ttsvjr0000gn/T/ipykernel_40342/522815405.py:5: SettingWithCopyWarning: \n",
      "A value is trying to be set on a copy of a slice from a DataFrame.\n",
      "Try using .loc[row_indexer,col_indexer] = value instead\n",
      "\n",
      "See the caveats in the documentation: https://pandas.pydata.org/pandas-docs/stable/user_guide/indexing.html#returning-a-view-versus-a-copy\n",
      "  sla['closed_date_time'] = pd.to_datetime(sla['closed_at'])\n",
      "/var/folders/70/dlcm7gbd3xdgyms689ttsvjr0000gn/T/ipykernel_40342/522815405.py:6: SettingWithCopyWarning: \n",
      "A value is trying to be set on a copy of a slice from a DataFrame.\n",
      "Try using .loc[row_indexer,col_indexer] = value instead\n",
      "\n",
      "See the caveats in the documentation: https://pandas.pydata.org/pandas-docs/stable/user_guide/indexing.html#returning-a-view-versus-a-copy\n",
      "  sla['closed_Date'] = sla['closed_date_time'].dt.date\n",
      "/var/folders/70/dlcm7gbd3xdgyms689ttsvjr0000gn/T/ipykernel_40342/522815405.py:7: SettingWithCopyWarning: \n",
      "A value is trying to be set on a copy of a slice from a DataFrame.\n",
      "Try using .loc[row_indexer,col_indexer] = value instead\n",
      "\n",
      "See the caveats in the documentation: https://pandas.pydata.org/pandas-docs/stable/user_guide/indexing.html#returning-a-view-versus-a-copy\n",
      "  sla['closed_time'] = sla['closed_date_time'].dt.time\n"
     ]
    }
   ],
   "source": [
    "sla['opened_date_time'] = pd.to_datetime(sla['opened_at'])\n",
    "sla['Open_Date'] = sla['opened_date_time'].dt.date\n",
    "sla['Open_time'] = sla['opened_date_time'].dt.time\n",
    "\n",
    "sla['closed_date_time'] = pd.to_datetime(sla['closed_at'])\n",
    "sla['closed_Date'] = sla['closed_date_time'].dt.date\n",
    "sla['closed_time'] = sla['closed_date_time'].dt.time"
   ]
  },
  {
   "cell_type": "markdown",
   "id": "03500710",
   "metadata": {},
   "source": [
    "## What date is Incidents opened and closed ?"
   ]
  },
  {
   "cell_type": "raw",
   "id": "b2c0d8ab",
   "metadata": {},
   "source": [
    "As we can see from figure 1, we have the number of Incidents drastically decreasing after a particular period may be the date with maximum incident means they would have had testing going on in the project whereas in figure 2 we can see with respect to Figure 1 the incidents where also closed at the same time due to SLA constraints but at Date there was lot of incidents getting closed. "
   ]
  },
  {
   "cell_type": "code",
   "execution_count": 17,
   "id": "1569983a",
   "metadata": {},
   "outputs": [],
   "source": [
    "date_open = pd.DataFrame(sla['Open_Date'].value_counts().reset_index())\n",
    "date_close = pd.DataFrame(sla['closed_Date'].value_counts().reset_index())"
   ]
  },
  {
   "cell_type": "code",
   "execution_count": 18,
   "id": "7e245138",
   "metadata": {},
   "outputs": [
    {
     "data": {
      "text/html": [
       "<div>\n",
       "<style scoped>\n",
       "    .dataframe tbody tr th:only-of-type {\n",
       "        vertical-align: middle;\n",
       "    }\n",
       "\n",
       "    .dataframe tbody tr th {\n",
       "        vertical-align: top;\n",
       "    }\n",
       "\n",
       "    .dataframe thead th {\n",
       "        text-align: right;\n",
       "    }\n",
       "</style>\n",
       "<table border=\"1\" class=\"dataframe\">\n",
       "  <thead>\n",
       "    <tr style=\"text-align: right;\">\n",
       "      <th></th>\n",
       "      <th>index</th>\n",
       "      <th>Open_Date</th>\n",
       "    </tr>\n",
       "  </thead>\n",
       "  <tbody>\n",
       "    <tr>\n",
       "      <th>0</th>\n",
       "      <td>2016-07-03</td>\n",
       "      <td>608</td>\n",
       "    </tr>\n",
       "    <tr>\n",
       "      <th>1</th>\n",
       "      <td>2016-03-28</td>\n",
       "      <td>500</td>\n",
       "    </tr>\n",
       "    <tr>\n",
       "      <th>2</th>\n",
       "      <td>2016-02-05</td>\n",
       "      <td>478</td>\n",
       "    </tr>\n",
       "    <tr>\n",
       "      <th>3</th>\n",
       "      <td>2016-02-03</td>\n",
       "      <td>469</td>\n",
       "    </tr>\n",
       "    <tr>\n",
       "      <th>4</th>\n",
       "      <td>2016-03-14</td>\n",
       "      <td>460</td>\n",
       "    </tr>\n",
       "  </tbody>\n",
       "</table>\n",
       "</div>"
      ],
      "text/plain": [
       "        index  Open_Date\n",
       "0  2016-07-03        608\n",
       "1  2016-03-28        500\n",
       "2  2016-02-05        478\n",
       "3  2016-02-03        469\n",
       "4  2016-03-14        460"
      ]
     },
     "execution_count": 18,
     "metadata": {},
     "output_type": "execute_result"
    }
   ],
   "source": [
    "date_open.head()"
   ]
  },
  {
   "cell_type": "code",
   "execution_count": 19,
   "id": "57f00d96",
   "metadata": {},
   "outputs": [
    {
     "data": {
      "text/plain": [
       "Text(0, 0.5, 'Incident Count')"
      ]
     },
     "execution_count": 19,
     "metadata": {},
     "output_type": "execute_result"
    },
    {
     "data": {
      "image/png": "[encoded data removed]",
      "text/plain": [
       "<Figure size 720x360 with 1 Axes>"
      ]
     },
     "metadata": {},
     "output_type": "display_data"
    }
   ],
   "source": [
    "sns.set(rc={\"figure.figsize\":(10, 5)})\n",
    "ax = sns.lineplot(x = 'index', y = 'Open_Date', data = date_open)\n",
    "ax.set_title('Timeline of Opened Incident', fontsize = 15)\n",
    "ax.set_xlabel(\"Opened Date\", fontsize = 15)\n",
    "ax.set_ylabel(\"Incident Count\", fontsize = 15)"
   ]
  },
  {
   "cell_type": "code",
   "execution_count": 20,
   "id": "0c96e6ed",
   "metadata": {},
   "outputs": [
    {
     "data": {
      "text/html": [
       "<div>\n",
       "<style scoped>\n",
       "    .dataframe tbody tr th:only-of-type {\n",
       "        vertical-align: middle;\n",
       "    }\n",
       "\n",
       "    .dataframe tbody tr th {\n",
       "        vertical-align: top;\n",
       "    }\n",
       "\n",
       "    .dataframe thead th {\n",
       "        text-align: right;\n",
       "    }\n",
       "</style>\n",
       "<table border=\"1\" class=\"dataframe\">\n",
       "  <thead>\n",
       "    <tr style=\"text-align: right;\">\n",
       "      <th></th>\n",
       "      <th>index</th>\n",
       "      <th>closed_Date</th>\n",
       "    </tr>\n",
       "  </thead>\n",
       "  <tbody>\n",
       "    <tr>\n",
       "      <th>0</th>\n",
       "      <td>2016-03-24</td>\n",
       "      <td>3114</td>\n",
       "    </tr>\n",
       "    <tr>\n",
       "      <th>1</th>\n",
       "      <td>2016-05-23</td>\n",
       "      <td>523</td>\n",
       "    </tr>\n",
       "    <tr>\n",
       "      <th>2</th>\n",
       "      <td>2016-03-27</td>\n",
       "      <td>490</td>\n",
       "    </tr>\n",
       "    <tr>\n",
       "      <th>3</th>\n",
       "      <td>2016-10-04</td>\n",
       "      <td>485</td>\n",
       "    </tr>\n",
       "    <tr>\n",
       "      <th>4</th>\n",
       "      <td>2016-04-30</td>\n",
       "      <td>473</td>\n",
       "    </tr>\n",
       "  </tbody>\n",
       "</table>\n",
       "</div>"
      ],
      "text/plain": [
       "        index  closed_Date\n",
       "0  2016-03-24         3114\n",
       "1  2016-05-23          523\n",
       "2  2016-03-27          490\n",
       "3  2016-10-04          485\n",
       "4  2016-04-30          473"
      ]
     },
     "execution_count": 20,
     "metadata": {},
     "output_type": "execute_result"
    }
   ],
   "source": [
    "date_close.head(5)"
   ]
  },
  {
   "cell_type": "code",
   "execution_count": 21,
   "id": "eed20e60",
   "metadata": {},
   "outputs": [
    {
     "data": {
      "text/plain": [
       "Text(0, 0.5, 'Incident Count')"
      ]
     },
     "execution_count": 21,
     "metadata": {},
     "output_type": "execute_result"
    },
    {
     "data": {
      "image/png": "[encoded data removed]",
      "text/plain": [
       "<Figure size 720x360 with 1 Axes>"
      ]
     },
     "metadata": {},
     "output_type": "display_data"
    }
   ],
   "source": [
    "sns.set(rc={\"figure.figsize\":(10, 5)})\n",
    "ax = sns.lineplot(x = 'index', y = 'closed_Date', data = date_close)\n",
    "ax.set_title('Timeline of Closed Incident', fontsize = 15)\n",
    "ax.set_xlabel(\"Closed Date\", fontsize = 15)\n",
    "ax.set_ylabel(\"Incident Count\", fontsize = 15)"
   ]
  },
  {
   "cell_type": "markdown",
   "id": "82ff71cc",
   "metadata": {},
   "source": [
    "## Data Preprocessing and Cleaning\n"
   ]
  },
  {
   "cell_type": "code",
   "execution_count": 22,
   "id": "29bd0328",
   "metadata": {},
   "outputs": [
    {
     "data": {
      "text/html": [
       "<div>\n",
       "<style scoped>\n",
       "    .dataframe tbody tr th:only-of-type {\n",
       "        vertical-align: middle;\n",
       "    }\n",
       "\n",
       "    .dataframe tbody tr th {\n",
       "        vertical-align: top;\n",
       "    }\n",
       "\n",
       "    .dataframe thead th {\n",
       "        text-align: right;\n",
       "    }\n",
       "</style>\n",
       "<table border=\"1\" class=\"dataframe\">\n",
       "  <thead>\n",
       "    <tr style=\"text-align: right;\">\n",
       "      <th></th>\n",
       "      <th>number</th>\n",
       "      <th>incident_state</th>\n",
       "      <th>active</th>\n",
       "      <th>reassignment_count</th>\n",
       "      <th>reopen_count</th>\n",
       "      <th>sys_mod_count</th>\n",
       "      <th>made_sla</th>\n",
       "      <th>caller_id</th>\n",
       "      <th>opened_by</th>\n",
       "      <th>opened_at</th>\n",
       "      <th>...</th>\n",
       "      <th>u_priority_confirmation</th>\n",
       "      <th>notify</th>\n",
       "      <th>problem_id</th>\n",
       "      <th>rfc</th>\n",
       "      <th>vendor</th>\n",
       "      <th>caused_by</th>\n",
       "      <th>closed_code</th>\n",
       "      <th>resolved_by</th>\n",
       "      <th>resolved_at</th>\n",
       "      <th>closed_at</th>\n",
       "    </tr>\n",
       "  </thead>\n",
       "  <tbody>\n",
       "    <tr>\n",
       "      <th>0</th>\n",
       "      <td>INC0000045</td>\n",
       "      <td>New</td>\n",
       "      <td>True</td>\n",
       "      <td>0</td>\n",
       "      <td>0</td>\n",
       "      <td>0</td>\n",
       "      <td>True</td>\n",
       "      <td>Caller 2403</td>\n",
       "      <td>Opened by  8</td>\n",
       "      <td>29/2/2016 01:16</td>\n",
       "      <td>...</td>\n",
       "      <td>False</td>\n",
       "      <td>Do Not Notify</td>\n",
       "      <td>?</td>\n",
       "      <td>?</td>\n",
       "      <td>?</td>\n",
       "      <td>?</td>\n",
       "      <td>code 5</td>\n",
       "      <td>Resolved by 149</td>\n",
       "      <td>29/2/2016 11:29</td>\n",
       "      <td>5/3/2016 12:00</td>\n",
       "    </tr>\n",
       "    <tr>\n",
       "      <th>1</th>\n",
       "      <td>INC0000045</td>\n",
       "      <td>Resolved</td>\n",
       "      <td>True</td>\n",
       "      <td>0</td>\n",
       "      <td>0</td>\n",
       "      <td>2</td>\n",
       "      <td>True</td>\n",
       "      <td>Caller 2403</td>\n",
       "      <td>Opened by  8</td>\n",
       "      <td>29/2/2016 01:16</td>\n",
       "      <td>...</td>\n",
       "      <td>False</td>\n",
       "      <td>Do Not Notify</td>\n",
       "      <td>?</td>\n",
       "      <td>?</td>\n",
       "      <td>?</td>\n",
       "      <td>?</td>\n",
       "      <td>code 5</td>\n",
       "      <td>Resolved by 149</td>\n",
       "      <td>29/2/2016 11:29</td>\n",
       "      <td>5/3/2016 12:00</td>\n",
       "    </tr>\n",
       "  </tbody>\n",
       "</table>\n",
       "<p>2 rows × 36 columns</p>\n",
       "</div>"
      ],
      "text/plain": [
       "       number incident_state  active  reassignment_count  reopen_count  \\\n",
       "0  INC0000045            New    True                   0             0   \n",
       "1  INC0000045       Resolved    True                   0             0   \n",
       "\n",
       "   sys_mod_count  made_sla    caller_id     opened_by        opened_at  ...  \\\n",
       "0              0      True  Caller 2403  Opened by  8  29/2/2016 01:16  ...   \n",
       "1              2      True  Caller 2403  Opened by  8  29/2/2016 01:16  ...   \n",
       "\n",
       "  u_priority_confirmation         notify problem_id rfc vendor caused_by  \\\n",
       "0                   False  Do Not Notify          ?   ?      ?         ?   \n",
       "1                   False  Do Not Notify          ?   ?      ?         ?   \n",
       "\n",
       "  closed_code      resolved_by      resolved_at       closed_at  \n",
       "0      code 5  Resolved by 149  29/2/2016 11:29  5/3/2016 12:00  \n",
       "1      code 5  Resolved by 149  29/2/2016 11:29  5/3/2016 12:00  \n",
       "\n",
       "[2 rows x 36 columns]"
      ]
     },
     "execution_count": 22,
     "metadata": {},
     "output_type": "execute_result"
    }
   ],
   "source": [
    "data.head(2)"
   ]
  },
  {
   "cell_type": "markdown",
   "id": "bd6ed57e",
   "metadata": {},
   "source": [
    "### Replacing ? with nan values"
   ]
  },
  {
   "cell_type": "code",
   "execution_count": 23,
   "id": "178a7aba",
   "metadata": {},
   "outputs": [],
   "source": [
    "data = data.replace('?', np.nan)"
   ]
  },
  {
   "cell_type": "markdown",
   "id": "acf22241",
   "metadata": {},
   "source": [
    "### Columns with nan values"
   ]
  },
  {
   "cell_type": "code",
   "execution_count": 24,
   "id": "381bbecb",
   "metadata": {},
   "outputs": [
    {
     "data": {
      "text/plain": [
       "number                          0\n",
       "incident_state                  0\n",
       "active                          0\n",
       "reassignment_count              0\n",
       "reopen_count                    0\n",
       "sys_mod_count                   0\n",
       "made_sla                        0\n",
       "caller_id                      29\n",
       "opened_by                    4835\n",
       "opened_at                       0\n",
       "sys_created_by              53076\n",
       "sys_created_at              53076\n",
       "sys_updated_by                  0\n",
       "sys_updated_at                  0\n",
       "contact_type                    0\n",
       "location                       76\n",
       "category                       78\n",
       "subcategory                   111\n",
       "u_symptom                   32964\n",
       "cmdb_ci                    141267\n",
       "impact                          0\n",
       "urgency                         0\n",
       "priority                        0\n",
       "assignment_group            14213\n",
       "assigned_to                 27496\n",
       "knowledge                       0\n",
       "u_priority_confirmation         0\n",
       "notify                          0\n",
       "problem_id                 139417\n",
       "rfc                        140721\n",
       "vendor                     141468\n",
       "caused_by                  141689\n",
       "closed_code                   714\n",
       "resolved_by                   226\n",
       "resolved_at                  3141\n",
       "closed_at                       0\n",
       "dtype: int64"
      ]
     },
     "execution_count": 24,
     "metadata": {},
     "output_type": "execute_result"
    }
   ],
   "source": [
    "data.isna().sum()"
   ]
  },
  {
   "cell_type": "markdown",
   "id": "102798e1",
   "metadata": {},
   "source": [
    "### Columns to drop \n",
    "1. problem_id\n",
    "2. rfc\n",
    "3. vendor\n",
    "4. caused_by\n",
    "5. cmdb_ci"
   ]
  },
  {
   "cell_type": "code",
   "execution_count": 25,
   "id": "90a4f7b5",
   "metadata": {},
   "outputs": [],
   "source": [
    "data = data.drop(['problem_id','rfc','vendor', 'caused_by','cmdb_ci',  'resolved_at'], axis = 1)"
   ]
  },
  {
   "cell_type": "code",
   "execution_count": 26,
   "id": "421a1649",
   "metadata": {},
   "outputs": [
    {
     "data": {
      "text/plain": [
       "(141712, 30)"
      ]
     },
     "execution_count": 26,
     "metadata": {},
     "output_type": "execute_result"
    }
   ],
   "source": [
    "data.shape"
   ]
  },
  {
   "cell_type": "code",
   "execution_count": 27,
   "id": "784db12d",
   "metadata": {},
   "outputs": [],
   "source": [
    "data = data.dropna()"
   ]
  },
  {
   "cell_type": "code",
   "execution_count": 28,
   "id": "6c7f72da",
   "metadata": {},
   "outputs": [
    {
     "data": {
      "text/plain": [
       "number                     0\n",
       "incident_state             0\n",
       "active                     0\n",
       "reassignment_count         0\n",
       "reopen_count               0\n",
       "sys_mod_count              0\n",
       "made_sla                   0\n",
       "caller_id                  0\n",
       "opened_by                  0\n",
       "opened_at                  0\n",
       "sys_created_by             0\n",
       "sys_created_at             0\n",
       "sys_updated_by             0\n",
       "sys_updated_at             0\n",
       "contact_type               0\n",
       "location                   0\n",
       "category                   0\n",
       "subcategory                0\n",
       "u_symptom                  0\n",
       "impact                     0\n",
       "urgency                    0\n",
       "priority                   0\n",
       "assignment_group           0\n",
       "assigned_to                0\n",
       "knowledge                  0\n",
       "u_priority_confirmation    0\n",
       "notify                     0\n",
       "closed_code                0\n",
       "resolved_by                0\n",
       "closed_at                  0\n",
       "dtype: int64"
      ]
     },
     "execution_count": 28,
     "metadata": {},
     "output_type": "execute_result"
    }
   ],
   "source": [
    "data.isna().sum()"
   ]
  },
  {
   "cell_type": "code",
   "execution_count": 29,
   "id": "22c07c5f",
   "metadata": {},
   "outputs": [
    {
     "data": {
      "text/plain": [
       "(53599, 30)"
      ]
     },
     "execution_count": 29,
     "metadata": {},
     "output_type": "execute_result"
    }
   ],
   "source": [
    "data.shape"
   ]
  },
  {
   "cell_type": "code",
   "execution_count": 30,
   "id": "c6a52a2b",
   "metadata": {},
   "outputs": [
    {
     "data": {
      "text/html": [
       "<div>\n",
       "<style scoped>\n",
       "    .dataframe tbody tr th:only-of-type {\n",
       "        vertical-align: middle;\n",
       "    }\n",
       "\n",
       "    .dataframe tbody tr th {\n",
       "        vertical-align: top;\n",
       "    }\n",
       "\n",
       "    .dataframe thead th {\n",
       "        text-align: right;\n",
       "    }\n",
       "</style>\n",
       "<table border=\"1\" class=\"dataframe\">\n",
       "  <thead>\n",
       "    <tr style=\"text-align: right;\">\n",
       "      <th></th>\n",
       "      <th>reassignment_count</th>\n",
       "      <th>reopen_count</th>\n",
       "      <th>sys_mod_count</th>\n",
       "    </tr>\n",
       "  </thead>\n",
       "  <tbody>\n",
       "    <tr>\n",
       "      <th>count</th>\n",
       "      <td>53599.000000</td>\n",
       "      <td>53599.000000</td>\n",
       "      <td>53599.000000</td>\n",
       "    </tr>\n",
       "    <tr>\n",
       "      <th>mean</th>\n",
       "      <td>1.066419</td>\n",
       "      <td>0.019888</td>\n",
       "      <td>5.683110</td>\n",
       "    </tr>\n",
       "    <tr>\n",
       "      <th>std</th>\n",
       "      <td>1.580764</td>\n",
       "      <td>0.201343</td>\n",
       "      <td>8.926393</td>\n",
       "    </tr>\n",
       "    <tr>\n",
       "      <th>min</th>\n",
       "      <td>0.000000</td>\n",
       "      <td>0.000000</td>\n",
       "      <td>0.000000</td>\n",
       "    </tr>\n",
       "    <tr>\n",
       "      <th>25%</th>\n",
       "      <td>0.000000</td>\n",
       "      <td>0.000000</td>\n",
       "      <td>1.000000</td>\n",
       "    </tr>\n",
       "    <tr>\n",
       "      <th>50%</th>\n",
       "      <td>1.000000</td>\n",
       "      <td>0.000000</td>\n",
       "      <td>3.000000</td>\n",
       "    </tr>\n",
       "    <tr>\n",
       "      <th>75%</th>\n",
       "      <td>1.000000</td>\n",
       "      <td>0.000000</td>\n",
       "      <td>7.000000</td>\n",
       "    </tr>\n",
       "    <tr>\n",
       "      <th>max</th>\n",
       "      <td>20.000000</td>\n",
       "      <td>6.000000</td>\n",
       "      <td>117.000000</td>\n",
       "    </tr>\n",
       "  </tbody>\n",
       "</table>\n",
       "</div>"
      ],
      "text/plain": [
       "       reassignment_count  reopen_count  sys_mod_count\n",
       "count        53599.000000  53599.000000   53599.000000\n",
       "mean             1.066419      0.019888       5.683110\n",
       "std              1.580764      0.201343       8.926393\n",
       "min              0.000000      0.000000       0.000000\n",
       "25%              0.000000      0.000000       1.000000\n",
       "50%              1.000000      0.000000       3.000000\n",
       "75%              1.000000      0.000000       7.000000\n",
       "max             20.000000      6.000000     117.000000"
      ]
     },
     "execution_count": 30,
     "metadata": {},
     "output_type": "execute_result"
    }
   ],
   "source": [
    "data.describe()"
   ]
  },
  {
   "cell_type": "code",
   "execution_count": 31,
   "id": "12b76a4a",
   "metadata": {},
   "outputs": [
    {
     "name": "stderr",
     "output_type": "stream",
     "text": [
      "/var/folders/70/dlcm7gbd3xdgyms689ttsvjr0000gn/T/ipykernel_40342/1581148269.py:5: UserWarning: Matplotlib is currently using module://matplotlib_inline.backend_inline, which is a non-GUI backend, so cannot show the figure.\n",
      "  fig.show()\n"
     ]
    },
    {
     "data": {
      "image/png": "[encoded data removed]",
      "text/plain": [
       "<Figure size 720x360 with 2 Axes>"
      ]
     },
     "metadata": {},
     "output_type": "display_data"
    }
   ],
   "source": [
    "#Plots to verify outliers \n",
    "fig, axs = plt.subplots(1,2, figsize=(10,5))\n",
    "sns.boxplot(x= 'reassignment_count', data=data, ax=axs[0])\n",
    "sns.boxplot(x= 'sys_mod_count', data=data, ax=axs[1])\n",
    "fig.show()"
   ]
  },
  {
   "cell_type": "code",
   "execution_count": 32,
   "id": "14c5463a",
   "metadata": {},
   "outputs": [],
   "source": [
    "incident = data"
   ]
  },
  {
   "cell_type": "code",
   "execution_count": 33,
   "id": "36e8614e",
   "metadata": {},
   "outputs": [
    {
     "data": {
      "text/html": [
       "<div>\n",
       "<style scoped>\n",
       "    .dataframe tbody tr th:only-of-type {\n",
       "        vertical-align: middle;\n",
       "    }\n",
       "\n",
       "    .dataframe tbody tr th {\n",
       "        vertical-align: top;\n",
       "    }\n",
       "\n",
       "    .dataframe thead th {\n",
       "        text-align: right;\n",
       "    }\n",
       "</style>\n",
       "<table border=\"1\" class=\"dataframe\">\n",
       "  <thead>\n",
       "    <tr style=\"text-align: right;\">\n",
       "      <th></th>\n",
       "      <th>number</th>\n",
       "      <th>incident_state</th>\n",
       "      <th>active</th>\n",
       "      <th>made_sla</th>\n",
       "      <th>caller_id</th>\n",
       "      <th>opened_by</th>\n",
       "      <th>opened_at</th>\n",
       "      <th>sys_created_by</th>\n",
       "      <th>sys_created_at</th>\n",
       "      <th>sys_updated_by</th>\n",
       "      <th>...</th>\n",
       "      <th>urgency</th>\n",
       "      <th>priority</th>\n",
       "      <th>assignment_group</th>\n",
       "      <th>assigned_to</th>\n",
       "      <th>knowledge</th>\n",
       "      <th>u_priority_confirmation</th>\n",
       "      <th>notify</th>\n",
       "      <th>closed_code</th>\n",
       "      <th>resolved_by</th>\n",
       "      <th>closed_at</th>\n",
       "    </tr>\n",
       "  </thead>\n",
       "  <tbody>\n",
       "    <tr>\n",
       "      <th>4</th>\n",
       "      <td>INC0000047</td>\n",
       "      <td>New</td>\n",
       "      <td>True</td>\n",
       "      <td>True</td>\n",
       "      <td>Caller 2403</td>\n",
       "      <td>Opened by  397</td>\n",
       "      <td>29/2/2016 04:40</td>\n",
       "      <td>Created by 171</td>\n",
       "      <td>29/2/2016 04:57</td>\n",
       "      <td>Updated by 746</td>\n",
       "      <td>...</td>\n",
       "      <td>2 - Medium</td>\n",
       "      <td>3 - Moderate</td>\n",
       "      <td>Group 70</td>\n",
       "      <td>Resolver 89</td>\n",
       "      <td>True</td>\n",
       "      <td>False</td>\n",
       "      <td>Do Not Notify</td>\n",
       "      <td>code 5</td>\n",
       "      <td>Resolved by 81</td>\n",
       "      <td>6/3/2016 10:00</td>\n",
       "    </tr>\n",
       "    <tr>\n",
       "      <th>5</th>\n",
       "      <td>INC0000047</td>\n",
       "      <td>Active</td>\n",
       "      <td>True</td>\n",
       "      <td>True</td>\n",
       "      <td>Caller 2403</td>\n",
       "      <td>Opened by  397</td>\n",
       "      <td>29/2/2016 04:40</td>\n",
       "      <td>Created by 171</td>\n",
       "      <td>29/2/2016 04:57</td>\n",
       "      <td>Updated by 21</td>\n",
       "      <td>...</td>\n",
       "      <td>2 - Medium</td>\n",
       "      <td>3 - Moderate</td>\n",
       "      <td>Group 24</td>\n",
       "      <td>Resolver 31</td>\n",
       "      <td>True</td>\n",
       "      <td>False</td>\n",
       "      <td>Do Not Notify</td>\n",
       "      <td>code 5</td>\n",
       "      <td>Resolved by 81</td>\n",
       "      <td>6/3/2016 10:00</td>\n",
       "    </tr>\n",
       "  </tbody>\n",
       "</table>\n",
       "<p>2 rows × 27 columns</p>\n",
       "</div>"
      ],
      "text/plain": [
       "       number incident_state  active  made_sla    caller_id       opened_by  \\\n",
       "4  INC0000047            New    True      True  Caller 2403  Opened by  397   \n",
       "5  INC0000047         Active    True      True  Caller 2403  Opened by  397   \n",
       "\n",
       "         opened_at  sys_created_by   sys_created_at  sys_updated_by  ...  \\\n",
       "4  29/2/2016 04:40  Created by 171  29/2/2016 04:57  Updated by 746  ...   \n",
       "5  29/2/2016 04:40  Created by 171  29/2/2016 04:57   Updated by 21  ...   \n",
       "\n",
       "      urgency      priority assignment_group  assigned_to knowledge  \\\n",
       "4  2 - Medium  3 - Moderate         Group 70  Resolver 89      True   \n",
       "5  2 - Medium  3 - Moderate         Group 24  Resolver 31      True   \n",
       "\n",
       "  u_priority_confirmation         notify closed_code     resolved_by  \\\n",
       "4                   False  Do Not Notify      code 5  Resolved by 81   \n",
       "5                   False  Do Not Notify      code 5  Resolved by 81   \n",
       "\n",
       "        closed_at  \n",
       "4  6/3/2016 10:00  \n",
       "5  6/3/2016 10:00  \n",
       "\n",
       "[2 rows x 27 columns]"
      ]
     },
     "execution_count": 33,
     "metadata": {},
     "output_type": "execute_result"
    }
   ],
   "source": [
    "categorial_col = data.drop(['reassignment_count','reopen_count','sys_mod_count'], axis = 1)\n",
    "categorial_col.head(2)"
   ]
  },
  {
   "cell_type": "code",
   "execution_count": 34,
   "id": "1d8ba3a8",
   "metadata": {},
   "outputs": [
    {
     "data": {
      "text/html": [
       "<div>\n",
       "<style scoped>\n",
       "    .dataframe tbody tr th:only-of-type {\n",
       "        vertical-align: middle;\n",
       "    }\n",
       "\n",
       "    .dataframe tbody tr th {\n",
       "        vertical-align: top;\n",
       "    }\n",
       "\n",
       "    .dataframe thead th {\n",
       "        text-align: right;\n",
       "    }\n",
       "</style>\n",
       "<table border=\"1\" class=\"dataframe\">\n",
       "  <thead>\n",
       "    <tr style=\"text-align: right;\">\n",
       "      <th></th>\n",
       "      <th>sys_updated_at</th>\n",
       "      <th>contact_type</th>\n",
       "      <th>location</th>\n",
       "      <th>category</th>\n",
       "      <th>subcategory</th>\n",
       "      <th>u_symptom</th>\n",
       "      <th>impact</th>\n",
       "      <th>urgency</th>\n",
       "      <th>priority</th>\n",
       "      <th>assignment_group</th>\n",
       "      <th>assigned_to</th>\n",
       "      <th>knowledge</th>\n",
       "      <th>u_priority_confirmation</th>\n",
       "      <th>notify</th>\n",
       "      <th>closed_code</th>\n",
       "      <th>resolved_by</th>\n",
       "      <th>closed_at</th>\n",
       "    </tr>\n",
       "  </thead>\n",
       "  <tbody>\n",
       "    <tr>\n",
       "      <th>count</th>\n",
       "      <td>53599</td>\n",
       "      <td>53599</td>\n",
       "      <td>53599</td>\n",
       "      <td>53599</td>\n",
       "      <td>53599</td>\n",
       "      <td>53599</td>\n",
       "      <td>53599</td>\n",
       "      <td>53599</td>\n",
       "      <td>53599</td>\n",
       "      <td>53599</td>\n",
       "      <td>53599</td>\n",
       "      <td>53599</td>\n",
       "      <td>53599</td>\n",
       "      <td>53599</td>\n",
       "      <td>53599</td>\n",
       "      <td>53599</td>\n",
       "      <td>53599</td>\n",
       "    </tr>\n",
       "    <tr>\n",
       "      <th>unique</th>\n",
       "      <td>28133</td>\n",
       "      <td>3</td>\n",
       "      <td>167</td>\n",
       "      <td>53</td>\n",
       "      <td>208</td>\n",
       "      <td>475</td>\n",
       "      <td>3</td>\n",
       "      <td>3</td>\n",
       "      <td>4</td>\n",
       "      <td>71</td>\n",
       "      <td>201</td>\n",
       "      <td>2</td>\n",
       "      <td>2</td>\n",
       "      <td>2</td>\n",
       "      <td>16</td>\n",
       "      <td>162</td>\n",
       "      <td>1442</td>\n",
       "    </tr>\n",
       "    <tr>\n",
       "      <th>top</th>\n",
       "      <td>24/3/2016 19:01</td>\n",
       "      <td>Phone</td>\n",
       "      <td>Location 204</td>\n",
       "      <td>Category 46</td>\n",
       "      <td>Subcategory 174</td>\n",
       "      <td>Symptom 491</td>\n",
       "      <td>2 - Medium</td>\n",
       "      <td>2 - Medium</td>\n",
       "      <td>3 - Moderate</td>\n",
       "      <td>Group 70</td>\n",
       "      <td>Resolver 194</td>\n",
       "      <td>False</td>\n",
       "      <td>False</td>\n",
       "      <td>Do Not Notify</td>\n",
       "      <td>code 6</td>\n",
       "      <td>Resolved by 177</td>\n",
       "      <td>24/3/2016 19:00</td>\n",
       "    </tr>\n",
       "    <tr>\n",
       "      <th>freq</th>\n",
       "      <td>174</td>\n",
       "      <td>53041</td>\n",
       "      <td>11473</td>\n",
       "      <td>8071</td>\n",
       "      <td>13554</td>\n",
       "      <td>26534</td>\n",
       "      <td>50598</td>\n",
       "      <td>50577</td>\n",
       "      <td>49862</td>\n",
       "      <td>6561</td>\n",
       "      <td>2773</td>\n",
       "      <td>45818</td>\n",
       "      <td>39117</td>\n",
       "      <td>53592</td>\n",
       "      <td>38983</td>\n",
       "      <td>2892</td>\n",
       "      <td>1090</td>\n",
       "    </tr>\n",
       "  </tbody>\n",
       "</table>\n",
       "</div>"
      ],
      "text/plain": [
       "         sys_updated_at contact_type      location     category  \\\n",
       "count             53599        53599         53599        53599   \n",
       "unique            28133            3           167           53   \n",
       "top     24/3/2016 19:01        Phone  Location 204  Category 46   \n",
       "freq                174        53041         11473         8071   \n",
       "\n",
       "            subcategory    u_symptom      impact     urgency      priority  \\\n",
       "count             53599        53599       53599       53599         53599   \n",
       "unique              208          475           3           3             4   \n",
       "top     Subcategory 174  Symptom 491  2 - Medium  2 - Medium  3 - Moderate   \n",
       "freq              13554        26534       50598       50577         49862   \n",
       "\n",
       "       assignment_group   assigned_to knowledge u_priority_confirmation  \\\n",
       "count             53599         53599     53599                   53599   \n",
       "unique               71           201         2                       2   \n",
       "top            Group 70  Resolver 194     False                   False   \n",
       "freq               6561          2773     45818                   39117   \n",
       "\n",
       "               notify closed_code      resolved_by        closed_at  \n",
       "count           53599       53599            53599            53599  \n",
       "unique              2          16              162             1442  \n",
       "top     Do Not Notify      code 6  Resolved by 177  24/3/2016 19:00  \n",
       "freq            53592       38983             2892             1090  "
      ]
     },
     "execution_count": 34,
     "metadata": {},
     "output_type": "execute_result"
    }
   ],
   "source": [
    "categorial_col.iloc[:,10:].describe()"
   ]
  },
  {
   "cell_type": "markdown",
   "id": "e60ab7f4",
   "metadata": {},
   "source": [
    "#### Checking for duplicates "
   ]
  },
  {
   "cell_type": "code",
   "execution_count": 35,
   "id": "15e5c8ff",
   "metadata": {},
   "outputs": [
    {
     "data": {
      "text/plain": [
       "0"
      ]
     },
     "execution_count": 35,
     "metadata": {},
     "output_type": "execute_result"
    }
   ],
   "source": [
    "incident.duplicated().sum()"
   ]
  },
  {
   "cell_type": "markdown",
   "id": "37b93479",
   "metadata": {},
   "source": [
    "### Extracted numeric values from string"
   ]
  },
  {
   "cell_type": "code",
   "execution_count": 36,
   "id": "093b1761",
   "metadata": {},
   "outputs": [],
   "source": [
    "# Extracted numeric value from these columns\n",
    "extract_numerics = ['caller_id', 'opened_by', 'sys_created_by', 'sys_updated_by', 'location', 'category', 'subcategory','u_symptom', 'impact','urgency', 'priority', 'assignment_group', 'assigned_to','closed_code', 'resolved_by','number' ]\n",
    "for feature in extract_numerics:\n",
    "    incident[feature] = incident[feature].str.extract('(\\d+)')"
   ]
  },
  {
   "cell_type": "code",
   "execution_count": 37,
   "id": "20d4922d",
   "metadata": {},
   "outputs": [
    {
     "data": {
      "text/html": [
       "<div>\n",
       "<style scoped>\n",
       "    .dataframe tbody tr th:only-of-type {\n",
       "        vertical-align: middle;\n",
       "    }\n",
       "\n",
       "    .dataframe tbody tr th {\n",
       "        vertical-align: top;\n",
       "    }\n",
       "\n",
       "    .dataframe thead th {\n",
       "        text-align: right;\n",
       "    }\n",
       "</style>\n",
       "<table border=\"1\" class=\"dataframe\">\n",
       "  <thead>\n",
       "    <tr style=\"text-align: right;\">\n",
       "      <th></th>\n",
       "      <th>number</th>\n",
       "      <th>incident_state</th>\n",
       "      <th>active</th>\n",
       "      <th>reassignment_count</th>\n",
       "      <th>reopen_count</th>\n",
       "      <th>sys_mod_count</th>\n",
       "      <th>made_sla</th>\n",
       "      <th>caller_id</th>\n",
       "      <th>opened_by</th>\n",
       "      <th>opened_at</th>\n",
       "      <th>...</th>\n",
       "      <th>urgency</th>\n",
       "      <th>priority</th>\n",
       "      <th>assignment_group</th>\n",
       "      <th>assigned_to</th>\n",
       "      <th>knowledge</th>\n",
       "      <th>u_priority_confirmation</th>\n",
       "      <th>notify</th>\n",
       "      <th>closed_code</th>\n",
       "      <th>resolved_by</th>\n",
       "      <th>closed_at</th>\n",
       "    </tr>\n",
       "  </thead>\n",
       "  <tbody>\n",
       "    <tr>\n",
       "      <th>4</th>\n",
       "      <td>0000047</td>\n",
       "      <td>New</td>\n",
       "      <td>True</td>\n",
       "      <td>0</td>\n",
       "      <td>0</td>\n",
       "      <td>0</td>\n",
       "      <td>True</td>\n",
       "      <td>2403</td>\n",
       "      <td>397</td>\n",
       "      <td>29/2/2016 04:40</td>\n",
       "      <td>...</td>\n",
       "      <td>2</td>\n",
       "      <td>3</td>\n",
       "      <td>70</td>\n",
       "      <td>89</td>\n",
       "      <td>True</td>\n",
       "      <td>False</td>\n",
       "      <td>Do Not Notify</td>\n",
       "      <td>5</td>\n",
       "      <td>81</td>\n",
       "      <td>6/3/2016 10:00</td>\n",
       "    </tr>\n",
       "    <tr>\n",
       "      <th>5</th>\n",
       "      <td>0000047</td>\n",
       "      <td>Active</td>\n",
       "      <td>True</td>\n",
       "      <td>1</td>\n",
       "      <td>0</td>\n",
       "      <td>1</td>\n",
       "      <td>True</td>\n",
       "      <td>2403</td>\n",
       "      <td>397</td>\n",
       "      <td>29/2/2016 04:40</td>\n",
       "      <td>...</td>\n",
       "      <td>2</td>\n",
       "      <td>3</td>\n",
       "      <td>24</td>\n",
       "      <td>31</td>\n",
       "      <td>True</td>\n",
       "      <td>False</td>\n",
       "      <td>Do Not Notify</td>\n",
       "      <td>5</td>\n",
       "      <td>81</td>\n",
       "      <td>6/3/2016 10:00</td>\n",
       "    </tr>\n",
       "    <tr>\n",
       "      <th>6</th>\n",
       "      <td>0000047</td>\n",
       "      <td>Active</td>\n",
       "      <td>True</td>\n",
       "      <td>1</td>\n",
       "      <td>0</td>\n",
       "      <td>2</td>\n",
       "      <td>True</td>\n",
       "      <td>2403</td>\n",
       "      <td>397</td>\n",
       "      <td>29/2/2016 04:40</td>\n",
       "      <td>...</td>\n",
       "      <td>2</td>\n",
       "      <td>3</td>\n",
       "      <td>24</td>\n",
       "      <td>31</td>\n",
       "      <td>True</td>\n",
       "      <td>False</td>\n",
       "      <td>Do Not Notify</td>\n",
       "      <td>5</td>\n",
       "      <td>81</td>\n",
       "      <td>6/3/2016 10:00</td>\n",
       "    </tr>\n",
       "    <tr>\n",
       "      <th>7</th>\n",
       "      <td>0000047</td>\n",
       "      <td>Active</td>\n",
       "      <td>True</td>\n",
       "      <td>1</td>\n",
       "      <td>0</td>\n",
       "      <td>3</td>\n",
       "      <td>True</td>\n",
       "      <td>2403</td>\n",
       "      <td>397</td>\n",
       "      <td>29/2/2016 04:40</td>\n",
       "      <td>...</td>\n",
       "      <td>2</td>\n",
       "      <td>3</td>\n",
       "      <td>24</td>\n",
       "      <td>31</td>\n",
       "      <td>True</td>\n",
       "      <td>False</td>\n",
       "      <td>Do Not Notify</td>\n",
       "      <td>5</td>\n",
       "      <td>81</td>\n",
       "      <td>6/3/2016 10:00</td>\n",
       "    </tr>\n",
       "    <tr>\n",
       "      <th>8</th>\n",
       "      <td>0000047</td>\n",
       "      <td>Active</td>\n",
       "      <td>True</td>\n",
       "      <td>1</td>\n",
       "      <td>0</td>\n",
       "      <td>4</td>\n",
       "      <td>True</td>\n",
       "      <td>2403</td>\n",
       "      <td>397</td>\n",
       "      <td>29/2/2016 04:40</td>\n",
       "      <td>...</td>\n",
       "      <td>2</td>\n",
       "      <td>3</td>\n",
       "      <td>24</td>\n",
       "      <td>31</td>\n",
       "      <td>True</td>\n",
       "      <td>False</td>\n",
       "      <td>Do Not Notify</td>\n",
       "      <td>5</td>\n",
       "      <td>81</td>\n",
       "      <td>6/3/2016 10:00</td>\n",
       "    </tr>\n",
       "  </tbody>\n",
       "</table>\n",
       "<p>5 rows × 30 columns</p>\n",
       "</div>"
      ],
      "text/plain": [
       "    number incident_state  active  reassignment_count  reopen_count  \\\n",
       "4  0000047            New    True                   0             0   \n",
       "5  0000047         Active    True                   1             0   \n",
       "6  0000047         Active    True                   1             0   \n",
       "7  0000047         Active    True                   1             0   \n",
       "8  0000047         Active    True                   1             0   \n",
       "\n",
       "   sys_mod_count  made_sla caller_id opened_by        opened_at  ... urgency  \\\n",
       "4              0      True      2403       397  29/2/2016 04:40  ...       2   \n",
       "5              1      True      2403       397  29/2/2016 04:40  ...       2   \n",
       "6              2      True      2403       397  29/2/2016 04:40  ...       2   \n",
       "7              3      True      2403       397  29/2/2016 04:40  ...       2   \n",
       "8              4      True      2403       397  29/2/2016 04:40  ...       2   \n",
       "\n",
       "  priority assignment_group assigned_to knowledge u_priority_confirmation  \\\n",
       "4        3               70          89      True                   False   \n",
       "5        3               24          31      True                   False   \n",
       "6        3               24          31      True                   False   \n",
       "7        3               24          31      True                   False   \n",
       "8        3               24          31      True                   False   \n",
       "\n",
       "          notify closed_code resolved_by       closed_at  \n",
       "4  Do Not Notify           5          81  6/3/2016 10:00  \n",
       "5  Do Not Notify           5          81  6/3/2016 10:00  \n",
       "6  Do Not Notify           5          81  6/3/2016 10:00  \n",
       "7  Do Not Notify           5          81  6/3/2016 10:00  \n",
       "8  Do Not Notify           5          81  6/3/2016 10:00  \n",
       "\n",
       "[5 rows x 30 columns]"
      ]
     },
     "execution_count": 37,
     "metadata": {},
     "output_type": "execute_result"
    }
   ],
   "source": [
    "incident.head()"
   ]
  },
  {
   "cell_type": "markdown",
   "id": "5f557a84",
   "metadata": {},
   "source": [
    "### Convert date column to datetime format from object and then to epoch value"
   ]
  },
  {
   "cell_type": "code",
   "execution_count": 38,
   "id": "dc2d65fc",
   "metadata": {},
   "outputs": [],
   "source": [
    "# converted these columns to datetimeformat\n",
    "convert_datetime = ['opened_at', 'sys_created_at', 'sys_updated_at','closed_at']\n",
    "for feature in convert_datetime:\n",
    "    incident[feature] = pd.to_datetime(incident[feature])"
   ]
  },
  {
   "cell_type": "code",
   "execution_count": 39,
   "id": "44586a65",
   "metadata": {},
   "outputs": [],
   "source": [
    "# Convert these time column to epoch time \n",
    "convert_to_epoch = ['opened_at', 'sys_created_at','sys_updated_at','closed_at']\n",
    "for feature in convert_to_epoch :\n",
    "    incident[feature] = (incident[feature] - dt.datetime(1970,1,1)).dt.total_seconds()"
   ]
  },
  {
   "cell_type": "code",
   "execution_count": 40,
   "id": "388c3070",
   "metadata": {},
   "outputs": [
    {
     "data": {
      "text/html": [
       "<div>\n",
       "<style scoped>\n",
       "    .dataframe tbody tr th:only-of-type {\n",
       "        vertical-align: middle;\n",
       "    }\n",
       "\n",
       "    .dataframe tbody tr th {\n",
       "        vertical-align: top;\n",
       "    }\n",
       "\n",
       "    .dataframe thead th {\n",
       "        text-align: right;\n",
       "    }\n",
       "</style>\n",
       "<table border=\"1\" class=\"dataframe\">\n",
       "  <thead>\n",
       "    <tr style=\"text-align: right;\">\n",
       "      <th></th>\n",
       "      <th>number</th>\n",
       "      <th>incident_state</th>\n",
       "      <th>active</th>\n",
       "      <th>reassignment_count</th>\n",
       "      <th>reopen_count</th>\n",
       "      <th>sys_mod_count</th>\n",
       "      <th>made_sla</th>\n",
       "      <th>caller_id</th>\n",
       "      <th>opened_by</th>\n",
       "      <th>opened_at</th>\n",
       "      <th>...</th>\n",
       "      <th>urgency</th>\n",
       "      <th>priority</th>\n",
       "      <th>assignment_group</th>\n",
       "      <th>assigned_to</th>\n",
       "      <th>knowledge</th>\n",
       "      <th>u_priority_confirmation</th>\n",
       "      <th>notify</th>\n",
       "      <th>closed_code</th>\n",
       "      <th>resolved_by</th>\n",
       "      <th>closed_at</th>\n",
       "    </tr>\n",
       "  </thead>\n",
       "  <tbody>\n",
       "    <tr>\n",
       "      <th>4</th>\n",
       "      <td>0000047</td>\n",
       "      <td>New</td>\n",
       "      <td>True</td>\n",
       "      <td>0</td>\n",
       "      <td>0</td>\n",
       "      <td>0</td>\n",
       "      <td>True</td>\n",
       "      <td>2403</td>\n",
       "      <td>397</td>\n",
       "      <td>1.456721e+09</td>\n",
       "      <td>...</td>\n",
       "      <td>2</td>\n",
       "      <td>3</td>\n",
       "      <td>70</td>\n",
       "      <td>89</td>\n",
       "      <td>True</td>\n",
       "      <td>False</td>\n",
       "      <td>Do Not Notify</td>\n",
       "      <td>5</td>\n",
       "      <td>81</td>\n",
       "      <td>1.464948e+09</td>\n",
       "    </tr>\n",
       "    <tr>\n",
       "      <th>5</th>\n",
       "      <td>0000047</td>\n",
       "      <td>Active</td>\n",
       "      <td>True</td>\n",
       "      <td>1</td>\n",
       "      <td>0</td>\n",
       "      <td>1</td>\n",
       "      <td>True</td>\n",
       "      <td>2403</td>\n",
       "      <td>397</td>\n",
       "      <td>1.456721e+09</td>\n",
       "      <td>...</td>\n",
       "      <td>2</td>\n",
       "      <td>3</td>\n",
       "      <td>24</td>\n",
       "      <td>31</td>\n",
       "      <td>True</td>\n",
       "      <td>False</td>\n",
       "      <td>Do Not Notify</td>\n",
       "      <td>5</td>\n",
       "      <td>81</td>\n",
       "      <td>1.464948e+09</td>\n",
       "    </tr>\n",
       "    <tr>\n",
       "      <th>6</th>\n",
       "      <td>0000047</td>\n",
       "      <td>Active</td>\n",
       "      <td>True</td>\n",
       "      <td>1</td>\n",
       "      <td>0</td>\n",
       "      <td>2</td>\n",
       "      <td>True</td>\n",
       "      <td>2403</td>\n",
       "      <td>397</td>\n",
       "      <td>1.456721e+09</td>\n",
       "      <td>...</td>\n",
       "      <td>2</td>\n",
       "      <td>3</td>\n",
       "      <td>24</td>\n",
       "      <td>31</td>\n",
       "      <td>True</td>\n",
       "      <td>False</td>\n",
       "      <td>Do Not Notify</td>\n",
       "      <td>5</td>\n",
       "      <td>81</td>\n",
       "      <td>1.464948e+09</td>\n",
       "    </tr>\n",
       "    <tr>\n",
       "      <th>7</th>\n",
       "      <td>0000047</td>\n",
       "      <td>Active</td>\n",
       "      <td>True</td>\n",
       "      <td>1</td>\n",
       "      <td>0</td>\n",
       "      <td>3</td>\n",
       "      <td>True</td>\n",
       "      <td>2403</td>\n",
       "      <td>397</td>\n",
       "      <td>1.456721e+09</td>\n",
       "      <td>...</td>\n",
       "      <td>2</td>\n",
       "      <td>3</td>\n",
       "      <td>24</td>\n",
       "      <td>31</td>\n",
       "      <td>True</td>\n",
       "      <td>False</td>\n",
       "      <td>Do Not Notify</td>\n",
       "      <td>5</td>\n",
       "      <td>81</td>\n",
       "      <td>1.464948e+09</td>\n",
       "    </tr>\n",
       "    <tr>\n",
       "      <th>8</th>\n",
       "      <td>0000047</td>\n",
       "      <td>Active</td>\n",
       "      <td>True</td>\n",
       "      <td>1</td>\n",
       "      <td>0</td>\n",
       "      <td>4</td>\n",
       "      <td>True</td>\n",
       "      <td>2403</td>\n",
       "      <td>397</td>\n",
       "      <td>1.456721e+09</td>\n",
       "      <td>...</td>\n",
       "      <td>2</td>\n",
       "      <td>3</td>\n",
       "      <td>24</td>\n",
       "      <td>31</td>\n",
       "      <td>True</td>\n",
       "      <td>False</td>\n",
       "      <td>Do Not Notify</td>\n",
       "      <td>5</td>\n",
       "      <td>81</td>\n",
       "      <td>1.464948e+09</td>\n",
       "    </tr>\n",
       "  </tbody>\n",
       "</table>\n",
       "<p>5 rows × 30 columns</p>\n",
       "</div>"
      ],
      "text/plain": [
       "    number incident_state  active  reassignment_count  reopen_count  \\\n",
       "4  0000047            New    True                   0             0   \n",
       "5  0000047         Active    True                   1             0   \n",
       "6  0000047         Active    True                   1             0   \n",
       "7  0000047         Active    True                   1             0   \n",
       "8  0000047         Active    True                   1             0   \n",
       "\n",
       "   sys_mod_count  made_sla caller_id opened_by     opened_at  ... urgency  \\\n",
       "4              0      True      2403       397  1.456721e+09  ...       2   \n",
       "5              1      True      2403       397  1.456721e+09  ...       2   \n",
       "6              2      True      2403       397  1.456721e+09  ...       2   \n",
       "7              3      True      2403       397  1.456721e+09  ...       2   \n",
       "8              4      True      2403       397  1.456721e+09  ...       2   \n",
       "\n",
       "   priority assignment_group  assigned_to knowledge u_priority_confirmation  \\\n",
       "4         3               70           89      True                   False   \n",
       "5         3               24           31      True                   False   \n",
       "6         3               24           31      True                   False   \n",
       "7         3               24           31      True                   False   \n",
       "8         3               24           31      True                   False   \n",
       "\n",
       "          notify closed_code resolved_by     closed_at  \n",
       "4  Do Not Notify           5          81  1.464948e+09  \n",
       "5  Do Not Notify           5          81  1.464948e+09  \n",
       "6  Do Not Notify           5          81  1.464948e+09  \n",
       "7  Do Not Notify           5          81  1.464948e+09  \n",
       "8  Do Not Notify           5          81  1.464948e+09  \n",
       "\n",
       "[5 rows x 30 columns]"
      ]
     },
     "execution_count": 40,
     "metadata": {},
     "output_type": "execute_result"
    }
   ],
   "source": [
    "incident.head()"
   ]
  },
  {
   "cell_type": "markdown",
   "id": "287840f5",
   "metadata": {},
   "source": [
    "## Categorical columns"
   ]
  },
  {
   "cell_type": "code",
   "execution_count": 41,
   "id": "f87f4dcd",
   "metadata": {},
   "outputs": [
    {
     "data": {
      "image/png": "[encoded data removed]",
      "text/plain": [
       "<Figure size 720x1440 with 8 Axes>"
      ]
     },
     "metadata": {},
     "output_type": "display_data"
    }
   ],
   "source": [
    "fig, ax = plt.subplots(nrows = 4, ncols = 2, figsize = (10,20))\n",
    "objList = ['incident_state', 'active', 'made_sla', 'contact_type', 'knowledge', 'u_priority_confirmation', 'notify' ]\n",
    "for i, objList in enumerate(objList):\n",
    "    ax = plt.subplot(4,2,i+1)\n",
    "    ax = incident[objList].value_counts().plot(kind='bar', color = 'orange')\n",
    "    ax.set_title(objList)\n",
    "    \n",
    "plt.subplots_adjust(hspace=1)\n",
    "plt.show()"
   ]
  },
  {
   "cell_type": "markdown",
   "id": "b3081bd8",
   "metadata": {},
   "source": [
    "## Encoding "
   ]
  },
  {
   "cell_type": "code",
   "execution_count": 43,
   "id": "0645b7c2",
   "metadata": {},
   "outputs": [],
   "source": [
    "#Performed Label Encoding\n",
    "objList = ['incident_state', 'active', 'made_sla', 'contact_type', 'knowledge', 'u_priority_confirmation', 'notify' ]\n",
    "for feature in objList:\n",
    "    incident[feature] = le.fit_transform(incident[feature])"
   ]
  },
  {
   "cell_type": "code",
   "execution_count": 44,
   "id": "ae2b44f0",
   "metadata": {},
   "outputs": [
    {
     "data": {
      "text/html": [
       "<div>\n",
       "<style scoped>\n",
       "    .dataframe tbody tr th:only-of-type {\n",
       "        vertical-align: middle;\n",
       "    }\n",
       "\n",
       "    .dataframe tbody tr th {\n",
       "        vertical-align: top;\n",
       "    }\n",
       "\n",
       "    .dataframe thead th {\n",
       "        text-align: right;\n",
       "    }\n",
       "</style>\n",
       "<table border=\"1\" class=\"dataframe\">\n",
       "  <thead>\n",
       "    <tr style=\"text-align: right;\">\n",
       "      <th></th>\n",
       "      <th>number</th>\n",
       "      <th>incident_state</th>\n",
       "      <th>active</th>\n",
       "      <th>reassignment_count</th>\n",
       "      <th>reopen_count</th>\n",
       "      <th>sys_mod_count</th>\n",
       "      <th>made_sla</th>\n",
       "      <th>caller_id</th>\n",
       "      <th>opened_by</th>\n",
       "      <th>opened_at</th>\n",
       "      <th>...</th>\n",
       "      <th>urgency</th>\n",
       "      <th>priority</th>\n",
       "      <th>assignment_group</th>\n",
       "      <th>assigned_to</th>\n",
       "      <th>knowledge</th>\n",
       "      <th>u_priority_confirmation</th>\n",
       "      <th>notify</th>\n",
       "      <th>closed_code</th>\n",
       "      <th>resolved_by</th>\n",
       "      <th>closed_at</th>\n",
       "    </tr>\n",
       "  </thead>\n",
       "  <tbody>\n",
       "    <tr>\n",
       "      <th>4</th>\n",
       "      <td>0000047</td>\n",
       "      <td>6</td>\n",
       "      <td>1</td>\n",
       "      <td>0</td>\n",
       "      <td>0</td>\n",
       "      <td>0</td>\n",
       "      <td>1</td>\n",
       "      <td>2403</td>\n",
       "      <td>397</td>\n",
       "      <td>1.456721e+09</td>\n",
       "      <td>...</td>\n",
       "      <td>2</td>\n",
       "      <td>3</td>\n",
       "      <td>70</td>\n",
       "      <td>89</td>\n",
       "      <td>1</td>\n",
       "      <td>0</td>\n",
       "      <td>0</td>\n",
       "      <td>5</td>\n",
       "      <td>81</td>\n",
       "      <td>1.464948e+09</td>\n",
       "    </tr>\n",
       "    <tr>\n",
       "      <th>5</th>\n",
       "      <td>0000047</td>\n",
       "      <td>0</td>\n",
       "      <td>1</td>\n",
       "      <td>1</td>\n",
       "      <td>0</td>\n",
       "      <td>1</td>\n",
       "      <td>1</td>\n",
       "      <td>2403</td>\n",
       "      <td>397</td>\n",
       "      <td>1.456721e+09</td>\n",
       "      <td>...</td>\n",
       "      <td>2</td>\n",
       "      <td>3</td>\n",
       "      <td>24</td>\n",
       "      <td>31</td>\n",
       "      <td>1</td>\n",
       "      <td>0</td>\n",
       "      <td>0</td>\n",
       "      <td>5</td>\n",
       "      <td>81</td>\n",
       "      <td>1.464948e+09</td>\n",
       "    </tr>\n",
       "    <tr>\n",
       "      <th>6</th>\n",
       "      <td>0000047</td>\n",
       "      <td>0</td>\n",
       "      <td>1</td>\n",
       "      <td>1</td>\n",
       "      <td>0</td>\n",
       "      <td>2</td>\n",
       "      <td>1</td>\n",
       "      <td>2403</td>\n",
       "      <td>397</td>\n",
       "      <td>1.456721e+09</td>\n",
       "      <td>...</td>\n",
       "      <td>2</td>\n",
       "      <td>3</td>\n",
       "      <td>24</td>\n",
       "      <td>31</td>\n",
       "      <td>1</td>\n",
       "      <td>0</td>\n",
       "      <td>0</td>\n",
       "      <td>5</td>\n",
       "      <td>81</td>\n",
       "      <td>1.464948e+09</td>\n",
       "    </tr>\n",
       "    <tr>\n",
       "      <th>7</th>\n",
       "      <td>0000047</td>\n",
       "      <td>0</td>\n",
       "      <td>1</td>\n",
       "      <td>1</td>\n",
       "      <td>0</td>\n",
       "      <td>3</td>\n",
       "      <td>1</td>\n",
       "      <td>2403</td>\n",
       "      <td>397</td>\n",
       "      <td>1.456721e+09</td>\n",
       "      <td>...</td>\n",
       "      <td>2</td>\n",
       "      <td>3</td>\n",
       "      <td>24</td>\n",
       "      <td>31</td>\n",
       "      <td>1</td>\n",
       "      <td>0</td>\n",
       "      <td>0</td>\n",
       "      <td>5</td>\n",
       "      <td>81</td>\n",
       "      <td>1.464948e+09</td>\n",
       "    </tr>\n",
       "    <tr>\n",
       "      <th>8</th>\n",
       "      <td>0000047</td>\n",
       "      <td>0</td>\n",
       "      <td>1</td>\n",
       "      <td>1</td>\n",
       "      <td>0</td>\n",
       "      <td>4</td>\n",
       "      <td>1</td>\n",
       "      <td>2403</td>\n",
       "      <td>397</td>\n",
       "      <td>1.456721e+09</td>\n",
       "      <td>...</td>\n",
       "      <td>2</td>\n",
       "      <td>3</td>\n",
       "      <td>24</td>\n",
       "      <td>31</td>\n",
       "      <td>1</td>\n",
       "      <td>0</td>\n",
       "      <td>0</td>\n",
       "      <td>5</td>\n",
       "      <td>81</td>\n",
       "      <td>1.464948e+09</td>\n",
       "    </tr>\n",
       "  </tbody>\n",
       "</table>\n",
       "<p>5 rows × 30 columns</p>\n",
       "</div>"
      ],
      "text/plain": [
       "    number  incident_state  active  reassignment_count  reopen_count  \\\n",
       "4  0000047               6       1                   0             0   \n",
       "5  0000047               0       1                   1             0   \n",
       "6  0000047               0       1                   1             0   \n",
       "7  0000047               0       1                   1             0   \n",
       "8  0000047               0       1                   1             0   \n",
       "\n",
       "   sys_mod_count  made_sla caller_id opened_by     opened_at  ... urgency  \\\n",
       "4              0         1      2403       397  1.456721e+09  ...       2   \n",
       "5              1         1      2403       397  1.456721e+09  ...       2   \n",
       "6              2         1      2403       397  1.456721e+09  ...       2   \n",
       "7              3         1      2403       397  1.456721e+09  ...       2   \n",
       "8              4         1      2403       397  1.456721e+09  ...       2   \n",
       "\n",
       "   priority assignment_group  assigned_to  knowledge u_priority_confirmation  \\\n",
       "4         3               70           89          1                       0   \n",
       "5         3               24           31          1                       0   \n",
       "6         3               24           31          1                       0   \n",
       "7         3               24           31          1                       0   \n",
       "8         3               24           31          1                       0   \n",
       "\n",
       "  notify closed_code resolved_by     closed_at  \n",
       "4      0           5          81  1.464948e+09  \n",
       "5      0           5          81  1.464948e+09  \n",
       "6      0           5          81  1.464948e+09  \n",
       "7      0           5          81  1.464948e+09  \n",
       "8      0           5          81  1.464948e+09  \n",
       "\n",
       "[5 rows x 30 columns]"
      ]
     },
     "execution_count": 44,
     "metadata": {},
     "output_type": "execute_result"
    }
   ],
   "source": [
    "incident.head()"
   ]
  },
  {
   "cell_type": "markdown",
   "id": "28433a23",
   "metadata": {},
   "source": [
    "###  Converting following column to numeric feature"
   ]
  },
  {
   "cell_type": "code",
   "execution_count": 45,
   "id": "51f3df0a",
   "metadata": {},
   "outputs": [],
   "source": [
    "numeric_list = ['number', 'incident_state', 'made_sla', 'caller_id', 'opened_by', 'sys_created_by', 'sys_updated_by','contact_type','location','category', 'subcategory', 'u_symptom', 'impact', 'urgency', 'priority', 'assignment_group','assigned_to','notify', 'closed_code','resolved_by'] \n",
    "for feature in numeric_list:\n",
    "    incident[feature] = pd.to_numeric(incident[feature])"
   ]
  },
  {
   "cell_type": "code",
   "execution_count": 46,
   "id": "c59afc90",
   "metadata": {},
   "outputs": [
    {
     "data": {
      "text/html": [
       "<div>\n",
       "<style scoped>\n",
       "    .dataframe tbody tr th:only-of-type {\n",
       "        vertical-align: middle;\n",
       "    }\n",
       "\n",
       "    .dataframe tbody tr th {\n",
       "        vertical-align: top;\n",
       "    }\n",
       "\n",
       "    .dataframe thead th {\n",
       "        text-align: right;\n",
       "    }\n",
       "</style>\n",
       "<table border=\"1\" class=\"dataframe\">\n",
       "  <thead>\n",
       "    <tr style=\"text-align: right;\">\n",
       "      <th></th>\n",
       "      <th>number</th>\n",
       "      <th>incident_state</th>\n",
       "      <th>active</th>\n",
       "      <th>reassignment_count</th>\n",
       "      <th>reopen_count</th>\n",
       "      <th>sys_mod_count</th>\n",
       "      <th>made_sla</th>\n",
       "      <th>caller_id</th>\n",
       "      <th>opened_by</th>\n",
       "      <th>opened_at</th>\n",
       "      <th>...</th>\n",
       "      <th>urgency</th>\n",
       "      <th>priority</th>\n",
       "      <th>assignment_group</th>\n",
       "      <th>assigned_to</th>\n",
       "      <th>knowledge</th>\n",
       "      <th>u_priority_confirmation</th>\n",
       "      <th>notify</th>\n",
       "      <th>closed_code</th>\n",
       "      <th>resolved_by</th>\n",
       "      <th>closed_at</th>\n",
       "    </tr>\n",
       "  </thead>\n",
       "  <tbody>\n",
       "    <tr>\n",
       "      <th>4</th>\n",
       "      <td>47</td>\n",
       "      <td>6</td>\n",
       "      <td>1</td>\n",
       "      <td>0</td>\n",
       "      <td>0</td>\n",
       "      <td>0</td>\n",
       "      <td>1</td>\n",
       "      <td>2403</td>\n",
       "      <td>397</td>\n",
       "      <td>1.456721e+09</td>\n",
       "      <td>...</td>\n",
       "      <td>2</td>\n",
       "      <td>3</td>\n",
       "      <td>70</td>\n",
       "      <td>89</td>\n",
       "      <td>1</td>\n",
       "      <td>0</td>\n",
       "      <td>0</td>\n",
       "      <td>5</td>\n",
       "      <td>81</td>\n",
       "      <td>1.464948e+09</td>\n",
       "    </tr>\n",
       "    <tr>\n",
       "      <th>5</th>\n",
       "      <td>47</td>\n",
       "      <td>0</td>\n",
       "      <td>1</td>\n",
       "      <td>1</td>\n",
       "      <td>0</td>\n",
       "      <td>1</td>\n",
       "      <td>1</td>\n",
       "      <td>2403</td>\n",
       "      <td>397</td>\n",
       "      <td>1.456721e+09</td>\n",
       "      <td>...</td>\n",
       "      <td>2</td>\n",
       "      <td>3</td>\n",
       "      <td>24</td>\n",
       "      <td>31</td>\n",
       "      <td>1</td>\n",
       "      <td>0</td>\n",
       "      <td>0</td>\n",
       "      <td>5</td>\n",
       "      <td>81</td>\n",
       "      <td>1.464948e+09</td>\n",
       "    </tr>\n",
       "    <tr>\n",
       "      <th>6</th>\n",
       "      <td>47</td>\n",
       "      <td>0</td>\n",
       "      <td>1</td>\n",
       "      <td>1</td>\n",
       "      <td>0</td>\n",
       "      <td>2</td>\n",
       "      <td>1</td>\n",
       "      <td>2403</td>\n",
       "      <td>397</td>\n",
       "      <td>1.456721e+09</td>\n",
       "      <td>...</td>\n",
       "      <td>2</td>\n",
       "      <td>3</td>\n",
       "      <td>24</td>\n",
       "      <td>31</td>\n",
       "      <td>1</td>\n",
       "      <td>0</td>\n",
       "      <td>0</td>\n",
       "      <td>5</td>\n",
       "      <td>81</td>\n",
       "      <td>1.464948e+09</td>\n",
       "    </tr>\n",
       "    <tr>\n",
       "      <th>7</th>\n",
       "      <td>47</td>\n",
       "      <td>0</td>\n",
       "      <td>1</td>\n",
       "      <td>1</td>\n",
       "      <td>0</td>\n",
       "      <td>3</td>\n",
       "      <td>1</td>\n",
       "      <td>2403</td>\n",
       "      <td>397</td>\n",
       "      <td>1.456721e+09</td>\n",
       "      <td>...</td>\n",
       "      <td>2</td>\n",
       "      <td>3</td>\n",
       "      <td>24</td>\n",
       "      <td>31</td>\n",
       "      <td>1</td>\n",
       "      <td>0</td>\n",
       "      <td>0</td>\n",
       "      <td>5</td>\n",
       "      <td>81</td>\n",
       "      <td>1.464948e+09</td>\n",
       "    </tr>\n",
       "    <tr>\n",
       "      <th>8</th>\n",
       "      <td>47</td>\n",
       "      <td>0</td>\n",
       "      <td>1</td>\n",
       "      <td>1</td>\n",
       "      <td>0</td>\n",
       "      <td>4</td>\n",
       "      <td>1</td>\n",
       "      <td>2403</td>\n",
       "      <td>397</td>\n",
       "      <td>1.456721e+09</td>\n",
       "      <td>...</td>\n",
       "      <td>2</td>\n",
       "      <td>3</td>\n",
       "      <td>24</td>\n",
       "      <td>31</td>\n",
       "      <td>1</td>\n",
       "      <td>0</td>\n",
       "      <td>0</td>\n",
       "      <td>5</td>\n",
       "      <td>81</td>\n",
       "      <td>1.464948e+09</td>\n",
       "    </tr>\n",
       "  </tbody>\n",
       "</table>\n",
       "<p>5 rows × 30 columns</p>\n",
       "</div>"
      ],
      "text/plain": [
       "   number  incident_state  active  reassignment_count  reopen_count  \\\n",
       "4      47               6       1                   0             0   \n",
       "5      47               0       1                   1             0   \n",
       "6      47               0       1                   1             0   \n",
       "7      47               0       1                   1             0   \n",
       "8      47               0       1                   1             0   \n",
       "\n",
       "   sys_mod_count  made_sla  caller_id  opened_by     opened_at  ...  urgency  \\\n",
       "4              0         1       2403        397  1.456721e+09  ...        2   \n",
       "5              1         1       2403        397  1.456721e+09  ...        2   \n",
       "6              2         1       2403        397  1.456721e+09  ...        2   \n",
       "7              3         1       2403        397  1.456721e+09  ...        2   \n",
       "8              4         1       2403        397  1.456721e+09  ...        2   \n",
       "\n",
       "   priority  assignment_group  assigned_to  knowledge  \\\n",
       "4         3                70           89          1   \n",
       "5         3                24           31          1   \n",
       "6         3                24           31          1   \n",
       "7         3                24           31          1   \n",
       "8         3                24           31          1   \n",
       "\n",
       "   u_priority_confirmation  notify  closed_code  resolved_by     closed_at  \n",
       "4                        0       0            5           81  1.464948e+09  \n",
       "5                        0       0            5           81  1.464948e+09  \n",
       "6                        0       0            5           81  1.464948e+09  \n",
       "7                        0       0            5           81  1.464948e+09  \n",
       "8                        0       0            5           81  1.464948e+09  \n",
       "\n",
       "[5 rows x 30 columns]"
      ]
     },
     "execution_count": 46,
     "metadata": {},
     "output_type": "execute_result"
    }
   ],
   "source": [
    "incident.head()"
   ]
  }
 ],
 "metadata": {
  "kernelspec": {
   "display_name": "Python 3 (ipykernel)",
   "language": "python",
   "name": "python3"
  },
  "language_info": {
   "codemirror_mode": {
    "name": "ipython",
    "version": 3
   },
   "file_extension": ".py",
   "mimetype": "text/x-python",
   "name": "python",
   "nbconvert_exporter": "python",
   "pygments_lexer": "ipython3",
   "version": "3.9.12"
  }
 },
 "nbformat": 4,
 "nbformat_minor": 5
}
